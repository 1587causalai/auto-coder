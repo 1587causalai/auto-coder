{
 "cells": [
  {
   "cell_type": "markdown",
   "metadata": {},
   "source": [
    "# 测试 extract_text_from_excel 函数"
   ]
  },
  {
   "cell_type": "code",
   "execution_count": null,
   "metadata": {},
   "outputs": [],
   "source": [
    "import sys\n",
    "import os\n",
    "\n",
    "# 添加项目根目录到Python路径\n",
    "project_root = os.path.abspath(os.path.join(os.getcwd(), '..'))\n",
    "sys.path.append(project_root)\n",
    "\n",
    "from src.autocoder.rag.loaders.excel_loader import extract_text_from_excel"
   ]
  },
  {
   "cell_type": "markdown",
   "metadata": {},
   "source": [
    "## 准备测试用的Excel文件\n",
    "\n",
    "请确保在运行下面的代码之前,你已经准备好了一个测试用的Excel文件。\n",
    "将文件路径替换为你实际的Excel文件路径。"
   ]
  },
  {
   "cell_type": "code",
   "execution_count": null,
   "metadata": {},
   "outputs": [],
   "source": [
    "# 替换为你的Excel文件路径\n",
    "excel_file_path = '/path/to/your/test_excel_file.xlsx'\n",
    "\n",
    "# 确保文件存在\n",
    "assert os.path.exists(excel_file_path), f\"Excel file not found at {excel_file_path}\""
   ]
  },
  {
   "cell_type": "markdown",
   "metadata": {},
   "source": [
    "## 测试 extract_text_from_excel 函数"
   ]
  },
  {
   "cell_type": "code",
   "execution_count": null,
   "metadata": {},
   "outputs": [],
   "source": [
    "# 调用函数并获取结果\n",
    "result = extract_text_from_excel(excel_file_path)\n",
    "\n",
    "# 打印结果\n",
    "print(\"Extracted sheets:\")\n",
    "for sheet_name, content in result:\n",
    "    print(f\"\\nSheet: {sheet_name}\")\n",
    "    print(\"Content:\")\n",
    "    print(content)\n",
    "    print(\"-\" * 50)"
   ]
  },
  {
   "cell_type": "markdown",
   "metadata": {},
   "source": [
    "## 结果分析\n",
    "\n",
    "上面的代码会打印出Excel文件中每个sheet的名称和内容。你可以检查输出结果,确保:\n",
    "\n",
    "1. 所有的sheet都被正确提取\n",
    "2. 每个sheet的内容是完整和正确的\n",
    "3. 内容的格式符合预期(例如,单元格之间用逗号分隔,行之间有换行)\n",
    "\n",
    "如果发现任何问题,你可能需要回到`extract_text_from_excel`函数的实现,进行调试或修改。"
   ]
  }
 ],
 "metadata": {
  "language_info": {
   "name": "python"
  }
 },
 "nbformat": 4,
 "nbformat_minor": 2
}