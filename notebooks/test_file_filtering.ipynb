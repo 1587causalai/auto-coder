{
 "cells": [
  {
   "cell_type": "markdown",
   "metadata": {},
   "source": [
    "# Testing File Filtering in LongContextRAG\n",
    "\n",
    "This notebook demonstrates how to test the file filtering functionality in the LongContextRAG class."
   ]
  },
  {
   "cell_type": "code",
   "execution_count": null,
   "metadata": {},
   "outputs": [],
   "source": [
    "import os\n",
    "import tempfile\n",
    "from autocoder.rag.long_context_rag import LongContextRAG\n",
    "from autocoder.common import AutoCoderArgs\n",
    "from byzerllm import ByzerLLM\n",
    "\n",
    "# Create a temporary directory for testing\n",
    "with tempfile.TemporaryDirectory() as temp_dir:\n",
    "    # Create some test files\n",
    "    files = [\n",
    "        ('test1.md', '# Test 1\\nThis is a markdown file.'),\n",
    "        ('test2.txt', 'This is a text file.'),\n",
    "        ('test3.pdf', b'%PDF-1.4\\n%\\xe2\\xe3\\xcf\\xd3\\n1 0 obj\\n<</Type/Catalog/Pages 2 0 R>>\\nendobj\\n2 0 obj\\n<</Type/Pages/Count 1/Kids[3 0 R]>>\\nendobj\\n3 0 obj\\n<</Type/Page/MediaBox[0 0 612 792]/Parent 2 0 R/Resources<<>>>>\\nendobj\\nxref\\n0 4\\n0000000000 65535 f\\n0000000015 00000 n\\n0000000060 00000 n\\n0000000111 00000 n\\n trailer\\n<</Size 4/Root 1 0 R>>\\nstartxref\\n190\\n%%EOF\\n'),\n",
    "        ('test4.docx', b'PK\\x03\\x04\\x14\\x00\\x06\\x00\\x08\\x00\\x00\\x00!\\x00\\xf3S\\xc5\\xdd\\xd5\\x01\\x00\\x00\\xe2\\x05\\x00\\x00\\x13\\x00\\x08\\x02[Content_Types].xml \\xa2\\x04\\x02(\\xa0\\x00\\x02\\x00\\x00\\x00\\x00\\x00\\x00\\x00\\x00\\x00\\x00\\x00\\x00\\x00\\x00\\x00\\x00\\x00\\x00\\x00\\x00\\x00\\x00\\x00\\x00\\x00\\x00\\x00\\x00\\x00\\x00\\x00\\x00\\x00\\x00\\x00\\x00\\x00\\x00\\x00\\x00\\x00\\x00\\x00\\x00\\x00\\x00\\x00\\x00\\x00\\x00\\x00\\x00\\x00\\x00\\x00\\x00\\x00\\x00\\x00\\x00\\x00\\x00\\x00\\x00\\x00\\x00\\x00\\x00\\x00\\x00\\x00\\x00\\x00\\x00\\x00\\x00\\x00\\x00\\x00\\x00\\x00\\x00\\x00\\x00\\x00\\x00\\x00\\x00\\x00\\x00\\x00\\x00\\x00\\x00\\x00\\x00\\x00\\x00\\x00\\x00\\x00\\x00\\x00\\x00\\x00\\x00\\x00\\x00\\x00\\x00\\x00\\x00\\x00\\x00\\x00\\x00\\x00\\x00\\x00\\x00\\x00\\x00\\x00\\x00\\x00\\x00\\x00\\x00\\x00\\x00\\x00\\x00\\x00\\x00\\x00\\x00\\x00\\x00\\x00\\x00\\x00\\x00\\x00\\x00\\x00\\x00\\x00\\x00\\x00\\x00\\x00\\x00\\x00\\x00\\x00\\x00\\x00\\x00\\x00\\x00\\x00\\x00\\x00\\x00\\x00\\x00\\x00\\x00\\x00\\x00\\x00\\x00\\x00\\x00\\x00\\x00\\x00\\x00\\x00\\x00\\x00\\x00\\x00\\x00\\x00\\x00\\x00\\x00\\x00\\x00\\x00\\x00\\x00\\x00\\x00\\x00\\x00\\x00\\x00\\x00\\x00\\x00\\x00\\x00\\x00\\x00\\x00\\x00\\x00\\x00\\x00\\x00\\x00\\x00\\x00\\x00\\x00\\x00\\x00\\x00\\x00\\x00\\x00\\x00\\x00\\x00\\x00\\x00\\x00\\x00\\x00\\x00\\x00\\x00\\x00\\x00\\x00\\x00\\x00\\x00\\x00\\x00\\x00\\x00\\x00\\x00\\x00\\x00\\x00\\x00\\x00\\x00\\x00\\x00\\x00\\x00\\x00\\x00\\x00\\x00\\x00\\x00\\x00\\x00\\x00\\x00\\x00\\x00\\x00\\x00\\x00\\x00\\x00\\x00\\x00\\x00\\x00\\x00\\x00\\x00\\x00\\x00\\x00\\x00\\x00\\x00\\x00\\x00\\x00\\x00\\x00\\x00\\x00\\x00\\x00\\x00\\x00\\x00\\x00\\x00\\x00\\x00\\x00\\x00\\x00\\x00\\x00\\x00\\x00\\x00\\x00\\x00\\x00\\x00\\x00\\x00\\x00\\x00\\x00\\x00\\x00\\x00\\x00\\x00\\x00\\x00\\x00\\x00\\x00\\x00\\x00\\x00\\x00\\x00\\x00\\x00\\x00\\x00\\x00\\x00\\x00\\x00\\x00\\x00\\x00\\x00\\x00\\x00\\x00\\x00\\x00\\x00\\x00\\x00\\x00\\x00\\x00\\x00\\x00\\x00\\x00\\x00\\x00\\x00\\x00\\x00\\x00\\x00\\x00\\x00\\x00\\x00\\x00\\x00\\x00\\x00\\x00\\x00\\x00\\x00\\x00\\x00\\x00\\x00\\x00\\x00\\x00\\x00\\x00\\x00\\x00\\x00\\x00\\x00\\x00\\x00\\x00\\x00\\x00\\x00\\x00\\x00\\x00\\x00\\x00\\x00\\x00\\x00\\x00\\x00\\x00\\x00\\x00\\x00\\x00\\x00\\x00\\x00\\x00\\x00\\x00\\x00\\x00\\x00\\x00\\x00\\x00\\x00\\x00\\x00\\x00\\x00\\x00\\x00\\x00\\x00\\x00\\x00\\x00\\x00\\x00\\x00\\x00\\x00\\x00\\x00\\x00\\x00\\x00\\x00\\x00\\x00\\x00\\x00\\x00\\x00\\x00PK\\x01\\x02\\x14\\x00\\x14\\x00\\x06\\x00\\x08\\x00\\x00\\x00!\\x00\\xf3S\\xc5\\xdd\\xd5\\x01\\x00\\x00\\xe2\\x05\\x00\\x00\\x13\\x00\\x00\\x00\\x00\\x00\\x00\\x00\\x00\\x00\\x00\\x00\\x00\\x00\\x00\\x00\\x00\\x00[Content_Types].xmlPK\\x05\\x06\\x00\\x00\\x00\\x00\\x01\\x00\\x01\\x00A\\x00\\x00\\x00\\x16\\x02\\x00\\x00\\x00\\x00'),\n",
    "        ('test5.py', '# This is a Python file\\nprint(\"Hello, World!\")'),\n",
    "        ('.serveignore', '*.txt\\n*.py')\n",
    "    ]\n",
    "    \n",
    "    for filename, content in files:\n",
    "        with open(os.path.join(temp_dir, filename), 'wb' if isinstance(content, bytes) else 'w') as f:\n",
    "            f.write(content)\n",
    "    \n",
    "    # Initialize LongContextRAG\n",
    "    args = AutoCoderArgs()\n",
    "    args.required_exts = '.md,.pdf,.docx'\n",
    "    llm = ByzerLLM()\n",
    "    rag = LongContextRAG(llm, args, temp_dir)\n",
    "    \n",
    "    # Test file retrieval\n",
    "    documents = rag._retrieve_documents()\n",
    "    \n",
    "    print(\"Retrieved documents:\")\n",
    "    for doc in documents:\n",
    "        print(f\"- {doc.module_name}\")\n",
    "    \n",
    "    print(\"\\nContent of test1.md:\")\n",
    "    print(next(doc.source_code for doc in documents if doc.module_name == 'test1.md'))\n",
    "\n",
    "    # Test ignore functionality\n",
    "    print(\"\\nTesting ignore functionality:\")\n",
    "    print(f\"Is 'test2.txt' ignored: {rag.ignore_spec.match_file('test2.txt')}\")\n",
    "    print(f\"Is 'test5.py' ignored: {rag.ignore_spec.match_file('test5.py')}\")\n",
    "    print(f\"Is 'test1.md' ignored: {rag.ignore_spec.match_file('test1.md')}\")"
   ]
  },
  {
   "cell_type": "markdown",
   "metadata": {},
   "source": [
    "This test notebook does the following:\n",
    "\n",
    "1. Creates a temporary directory with various test files, including a `.serveignore` file.\n",
    "2. Initializes a LongContextRAG instance with specific file extension requirements.\n",
    "3. Retrieves documents using the `_retrieve_documents` method.\n",
    "4. Prints the names of retrieved documents.\n",
    "5. Displays the content of a specific retrieved document.\n",
    "6. Tests the ignore functionality by checking if certain files are ignored based on the `.serveignore` rules.\n",
    "\n",
    "You can run this notebook to verify that the file filtering in LongContextRAG is working as expected, including the handling of required extensions and the `.serveignore` file."
   ]
  }
 ],
 "metadata": {
  "language_info": {
   "name": "python"
  }
 },
 "nbformat": 4,
 "nbformat_minor": 2
}