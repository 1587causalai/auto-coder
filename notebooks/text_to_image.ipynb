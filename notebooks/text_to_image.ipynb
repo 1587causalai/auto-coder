{
 "cells": [
  {
   "cell_type": "markdown",
   "metadata": {},
   "source": [
    "# 文生图示例\n",
    "\n",
    "本notebook演示如何使用byzerllm进行文生图操作。"
   ]
  },
  {
   "cell_type": "code",
   "execution_count": null,
   "metadata": {},
   "outputs": [],
   "source": [
    "import byzerllm\n",
    "import json\n",
    "import base64\n",
    "import matplotlib.pyplot as plt\n",
    "from IPython.display import Image, display\n",
    "\n",
    "# 初始化ByzerLLM\n",
    "llm = byzerllm.ByzerLLM.from_default_model(\"openai_image_gen\")\n",
    "\n",
    "def generate_and_display_image(prompt, size=\"1024x1024\", quality=\"standard\"):\n",
    "    # 生成图像\n",
    "    response = llm.chat_oai(conversations=[{\n",
    "        \"role\":\"user\",\n",
    "        \"content\": json.dumps({\n",
    "            \"input\": prompt,\n",
    "            \"size\": size,\n",
    "            \"quality\": quality\n",
    "        }, ensure_ascii=False)\n",
    "    }])\n",
    "    \n",
    "    # 解码图像数据\n",
    "    image_data = base64.b64decode(response[0].output)\n",
    "    \n",
    "    # 保存图像\n",
    "    with open(\"generated_image.jpg\", \"wb\") as f:\n",
    "        f.write(image_data)\n",
    "    \n",
    "    # 显示图像\n",
    "    display(Image(filename=\"generated_image.jpg\"))\n",
    "\n",
    "# 示例使用\n",
    "generate_and_display_image(\"一只可爱的白色暹罗猫\")"
   ]
  },
  {
   "cell_type": "markdown",
   "metadata": {},
   "source": [
    "你可以通过修改 `generate_and_display_image` 函数的参数来生成不同的图像。例如：\n",
    "\n",
    "```python\n",
    "generate_and_display_image(\"一个未来主义风格的城市景观\", size=\"512x512\", quality=\"hd\")\n",
    "```\n",
    "\n",
    "请注意，你需要确保已经正确设置了OpenAI的API密钥，并且已经部署了 `openai_image_gen` 模型。"
   ]
  }
 ],
 "metadata": {
  "kernelspec": {
   "display_name": "Python 3",
   "language": "python",
   "name": "python3"
  },
  "language_info": {
   "codemirror_mode": {
    "name": "ipython",
    "version": 3
   },
   "file_extension": ".py",
   "mimetype": "text/x-python",
   "name": "python",
   "nbconvert_exporter": "python",
   "pygments_lexer": "ipython3",
   "version": "3.8.5"
  }
 },
 "nbformat": 4,
 "nbformat_minor": 4
}