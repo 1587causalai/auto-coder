{
 "cells": [
  {
   "cell_type": "markdown",
   "metadata": {},
   "source": [
    "# AutoGuessQuery 测试\n",
    "\n",
    "本笔记本用于测试 `src/autocoder/agent/auto_guess_query.py` 中的 AutoGuessQuery 类功能。"
   ]
  },
  {
   "cell_type": "code",
   "execution_count": null,
   "metadata": {},
   "outputs": [],
   "source": [
    "# 初始化环境\n",
    "import os\n",
    "import sys\n",
    "sys.path.append(os.path.join(os.getcwd(), \"../src\"))\n",
    "\n",
    "from autocoder.agent.auto_guess_query import AutoGuessQuery, NextQuery\n",
    "import byzerllm"
   ]
  },
  {
   "cell_type": "code",
   "execution_count": null,
   "metadata": {},
   "outputs": [],
   "source": [
    "# 初始化 LLM 和 AutoGuessQuery\n",
    "llm = byzerllm.ByzerLLM.from_default_model(model=\"deepseek_chat\")\n",
    "project_dir = os.path.join(os.getcwd(), \"../tests/resources/test_project\")\n",
    "auto_guesser = AutoGuessQuery(llm, project_dir)"
   ]
  },
  {
   "cell_type": "code",
   "execution_count": null,
   "metadata": {},
   "outputs": [],
   "source": [
    "# 测试 parse_history_tasks 方法\n",
    "history_tasks = auto_guesser.parse_history_tasks()\n",
    "print(f\"Parsed {len(history_tasks)} history tasks\")\n",
    "for task in history_tasks:\n",
    "    print(f\"Query: {task[0]}\")\n",
    "    print(f\"Files: {task[1]}\")\n",
    "    print(f\"Diff: {task[2][:100]}...\" if task[2] else \"No diff\")\n",
    "    print(\"-\" * 40)"
   ]
  },
  {
   "cell_type": "code",
   "execution_count": null,
   "metadata": {},
   "outputs": [],
   "source": [
    "# 测试 predict_next_task 方法\n",
    "next_task = auto_guesser.predict_next_task()\n",
    "if next_task:\n",
    "    print(f\"Next Query: {next_task.query}\")\n",
    "    print(f\"Predicted Files: {next_task.urls}\")\n",
    "    print(f\"Priority: {next_task.priority}\")\n",
    "    print(f\"Reason: {next_task.reason}\")\n",
    "    print(f\"Dependencies: {next_task.dependency_queries}\")\n",
    "else:\n",
    "    print(\"No next task predicted\")"
   ]
  },
  {
   "cell_type": "code",
   "execution_count": null,
   "metadata": {},
   "outputs": [],
   "source": [
    "# 测试 NextQuery 模型\n",
    "sample_next_query = NextQuery(\n",
    "    query=\"Implement new feature X\",\n",
    "    urls=[\"src/feature_x.py\", \"tests/test_feature_x.py\"],\n",
    "    priority=3,\n",
    "    reason=\"Required for upcoming release\",\n",
    "    dependency_queries=[\"Setup basic project structure\"]\n",
    ")\n",
    "print(sample_next_query.json(indent=2))"
   ]
  },
  {
   "cell_type": "markdown",
   "metadata": {},
   "source": [
    "## 测试说明\n",
    "\n",
    "1. `parse_history_tasks` 测试：验证是否能正确解析历史任务\n",
    "2. `predict_next_task` 测试：验证是否能正确预测下一个任务\n",
    "3. `NextQuery` 模型测试：验证数据模型是否能正常工作\n",
    "\n",
    "注意：测试前请确保在 `tests/resources/test_project/actions` 目录下存在有效的 YAML 文件。"
   ]
  }
 ],
 "metadata": {
  "kernelspec": {
   "display_name": "Python 3",
   "language": "python",
   "name": "python3"
  },
  "language_info": {
   "codemirror_mode": {
    "name": "ipython",
    "version": 3
   },
   "file_extension": ".py",
   "mimetype": "text/x-python",
   "name": "python",
   "nbconvert_exporter": "python",
   "pygments_lexer": "ipython3",
   "version": "3.9.0"
  }
 },
 "nbformat": 4,
 "nbformat_minor": 2
}