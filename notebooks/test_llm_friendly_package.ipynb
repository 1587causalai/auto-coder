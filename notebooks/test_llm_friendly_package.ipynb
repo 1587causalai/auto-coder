{
 "cells": [
  {
   "cell_type": "markdown",
   "metadata": {},
   "source": [
    "# Test get_llm_friendly_package_docs Function\n",
    "\n",
    "This notebook is designed to test the `get_llm_friendly_package_docs` function from the chat_auto_coder module."
   ]
  },
  {
   "cell_type": "code",
   "execution_count": 4,
   "metadata": {},
   "outputs": [],
   "source": [
    "import sys\n",
    "import os\n",
    "\n",
    "# Add the project root to the Python path\n",
    "project_root = os.path.abspath(os.path.join(os.getcwd(), '..'))\n",
    "sys.path.insert(0, project_root)\n",
    "\n",
    "from src.autocoder.chat_auto_coder import get_llm_friendly_package_docs\n",
    "\n",
    "# Initialize the memory dictionary as it's used in the function\n",
    "memory = {\"libs\": {\"byzer-llm\": {}}}"
   ]
  },
  {
   "cell_type": "code",
   "execution_count": 6,
   "metadata": {},
   "outputs": [
    {
     "name": "stdout",
     "output_type": "stream",
     "text": [
      "llm_friendly_packages directory not found.\n",
      "Found 0 LLM-friendly package documents:\n"
     ]
    }
   ],
   "source": [
    "# Test the get_llm_friendly_package_docs function\n",
    "docs = get_llm_friendly_package_docs()\n",
    "print(f\"Found {len(docs)} LLM-friendly package documents:\")\n",
    "for doc in docs:\n",
    "    print(doc)"
   ]
  },
  {
   "cell_type": "markdown",
   "metadata": {},
   "source": [
    "## Analyzing the Results\n",
    "\n",
    "If the function is working correctly, we should see a list of file paths to markdown (.md) files. These files should be located in the `.auto-coder/libs/llm_friendly_packages` directory, within subdirectories that match the libraries specified in the `memory[\"libs\"]` dictionary.\n",
    "\n",
    "If no documents are found, it could mean one of the following:\n",
    "1. The `.auto-coder/libs/llm_friendly_packages` directory doesn't exist.\n",
    "2. There are no markdown files in the correct subdirectories.\n",
    "3. The `memory[\"libs\"]` dictionary is empty or doesn't contain the correct library names.\n",
    "\n",
    "You may need to adjust the `memory[\"libs\"]` dictionary or check the directory structure to ensure everything is set up correctly."
   ]
  },
  {
   "cell_type": "code",
   "execution_count": null,
   "metadata": {},
   "outputs": [],
   "source": [
    "# Let's check the directory structure\n",
    "llm_friendly_packages_dir = os.path.join(project_root, '.auto-coder', 'libs', 'llm_friendly_packages')\n",
    "print(f\"Checking directory: {llm_friendly_packages_dir}\")\n",
    "\n",
    "if os.path.exists(llm_friendly_packages_dir):\n",
    "    print(\"Directory exists. Contents:\")\n",
    "    for root, dirs, files in os.walk(llm_friendly_packages_dir):\n",
    "        level = root.replace(llm_friendly_packages_dir, '').count(os.sep)\n",
    "        indent = ' ' * 4 * level\n",
    "        print(f\"{indent}{os.path.basename(root)}/\")\n",
    "        sub_indent = ' ' * 4 * (level + 1)\n",
    "        for f in files:\n",
    "            print(f\"{sub_indent}{f}\")\n",
    "else:\n",
    "    print(\"Directory does not exist.\")"
   ]
  },
  {
   "cell_type": "markdown",
   "metadata": {},
   "source": [
    "Based on the results above, you may need to create the necessary directory structure and add some markdown files for testing, or adjust the `memory[\"libs\"]` dictionary to match the existing structure."
   ]
  }
 ],
 "metadata": {
  "kernelspec": {
   "display_name": "byzerllm",
   "language": "python",
   "name": "python3"
  },
  "language_info": {
   "codemirror_mode": {
    "name": "ipython",
    "version": 3
   },
   "file_extension": ".py",
   "mimetype": "text/x-python",
   "name": "python",
   "nbconvert_exporter": "python",
   "pygments_lexer": "ipython3",
   "version": "3.10.11"
  }
 },
 "nbformat": 4,
 "nbformat_minor": 2
}
