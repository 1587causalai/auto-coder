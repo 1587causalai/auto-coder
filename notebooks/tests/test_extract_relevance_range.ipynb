{
 "cells": [
  {
   "cell_type": "markdown",
   "metadata": {},
   "source": [
    "# Testing extract_relevance_range_from_docs_with_conversation Function\n",
    "\n",
    "This notebook demonstrates how to use and test the `extract_relevance_range_from_docs_with_conversation` function from the `token_limiter.py` module."
   ]
  },
  {
   "cell_type": "code",
   "execution_count": null,
   "metadata": {},
   "outputs": [],
   "source": [
    "import byzerllm\n",
    "\n",
    "# Initialize ByzerLLM\n",
    "llm = byzerllm.ByzerLLM.from_default_model(\"deepseek_chat\")"
   ]
  },
  {
   "cell_type": "markdown",
   "metadata": {},
   "source": [
    "## Create Sample Data\n",
    "\n",
    "Let's create some sample conversations and documents to test the relevance range extraction."
   ]
  },
  {
   "cell_type": "code",
   "execution_count": null,
   "metadata": {},
   "outputs": [],
   "source": [
    "# Sample conversation\n",
    "conversations = [\n",
    "    {\"role\": \"user\", \"content\": \"What are the main methods in TokenLimiter class?\"},\n",
    "    {\"role\": \"assistant\", \"content\": \"The TokenLimiter class provides methods for managing token limits in text processing.\"},\n",
    "    {\"role\": \"user\", \"content\": \"Can you explain the initialization parameters?\"}\n",
    "]\n",
    "\n",
    "# Sample document\n",
    "document = \"\"\"\n",
    "class TokenLimiter:\n",
    "    def __init__(\n",
    "        self,\n",
    "        count_tokens: Callable[[str], int],\n",
    "        full_text_limit: int,\n",
    "        segment_limit: int,\n",
    "        buff_limit: int,\n",
    "        llm:ByzerLLM,\n",
    "        disable_segment_reorder: bool,\n",
    "    ):\n",
    "        self.count_tokens = count_tokens\n",
    "        self.full_text_limit = full_text_limit\n",
    "        self.segment_limit = segment_limit\n",
    "        self.buff_limit = buff_limit\n",
    "        self.llm = llm\n",
    "\n",
    "    def limit_tokens(self, relevant_docs: List[SourceCode]):\n",
    "        pass\n",
    "\"\"\""
   ]
  },
  {
   "cell_type": "markdown",
   "metadata": {},
   "source": [
    "## Import and Test the Function\n",
    "\n",
    "Now let's import and test the extract_relevance_range_from_docs_with_conversation function."
   ]
  },
  {
   "cell_type": "code",
   "execution_count": null,
   "metadata": {},
   "outputs": [],
   "source": [
    "from autocoder.rag.token_limiter import extract_relevance_range_from_docs_with_conversation\n",
    "\n",
    "# Test relevance range extraction\n",
    "result = extract_relevance_range_from_docs_with_conversation.with_llm(llm).run(conversations, [document])\n",
    "print(f\"Relevance Range Result:\\n{result}\")"
   ]
  }
 ],
 "metadata": {
  "kernelspec": {
   "display_name": "Python 3",
   "language": "python",
   "name": "python3"
  },
  "language_info": {
   "codemirror_mode": {
    "name": "ipython",
    "version": 3
   },
   "file_extension": ".py",
   "mimetype": "text/x-python",
   "name": "python",
   "nbconvert_exporter": "python",
   "pygments_lexer": "ipython3",
   "version": "3.10.11"
  }
 },
 "nbformat": 4,
 "nbformat_minor": 4
}