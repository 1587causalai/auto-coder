{
 "cells": [
  {
   "cell_type": "markdown",
   "metadata": {},
   "source": [
    "# Test McpExecutor Run Method\n",
    "\n",
    "This notebook tests the `run` method of the `McpExecutor` class from `autocoder.common.mcp_tools`."
   ]
  },
  {
   "cell_type": "code",
   "execution_count": null,
   "metadata": {},
   "outputs": [],
   "source": [
    "import os\n",
    "import sys\n",
    "import json\n",
    "import asyncio\n",
    "import tempfile\n",
    "from pathlib import Path\n",
    "\n",
    "from autocoder.common.mcp_hub import McpHub, McpServer, McpTool, McpResource, McpResourceTemplate\n",
    "from autocoder.common.mcp_tools import McpExecutor\n",
    "import byzerllm"
   ]
  },
  {
   "cell_type": "code",
   "execution_count": null,
   "metadata": {},
   "outputs": [],
   "source": [
    "# Helper function for async tests\n",
    "async def run_test(test_func):\n",
    "    \"\"\"Helper to run async test functions\"\"\"\n",
    "    try:\n",
    "        await test_func()\n",
    "        print(\"✅ Test passed\")\n",
    "    except AssertionError as e:\n",
    "        print(f\"❌ Test failed: {str(e)}\")\n",
    "    except Exception as e:\n",
    "        print(f\"❌ Test error: {str(e)}\")"
   ]
  },
  {
   "cell_type": "code",
   "execution_count": null,
   "metadata": {},
   "outputs": [],
   "source": [
    "async def test_mcp_executor_run():\n",
    "    \"\"\"Test McpExecutor run method\"\"\"\n",
    "    # Create settings file with filesystem server config\n",
    "    with tempfile.NamedTemporaryFile(mode='w', delete=False) as f:\n",
    "        settings = {\n",
    "            \"mcpServers\": {\n",
    "                \"filesystem\": {\n",
    "                    \"command\": \"npx\",\n",
    "                    \"args\": [\n",
    "                        \"-y\",\n",
    "                        \"@modelcontextprotocol/server-filesystem\",\n",
    "                        \"/Users/allwefantasy/projects/tests\"                        \n",
    "                    ]\n",
    "                }\n",
    "            }\n",
    "        }\n",
    "        json.dump(settings, f)\n",
    "        settings_path = f.name\n",
    "    \n",
    "    try:\n",
    "        # Initialize hub and executor\n",
    "        hub = McpHub(settings_path)\n",
    "        await hub.initialize()\n",
    "        \n",
    "        llm = byzerllm.ByzerLLM.from_default_model(model=\"deepseek_chat\")\n",
    "        executor = McpExecutor(hub, llm)\n",
    "        \n",
    "        # Create test conversation\n",
    "        conversations = [{\n",
    "            \"role\": \"user\",\n",
    "            \"content\": \"List the contents of /Users/allwefantasy/projects/tests\"\n",
    "        }]\n",
    "        \n",
    "        # Run the executor\n",
    "        result = await executor.run(conversations)\n",
    "        \n",
    "        # Verify the result contains the directory listing\n",
    "        assert len(result) > 2, \"Expected result to contain directory listing\"\n",
    "        print(\"Test result:\", result[-2]['content'])\n",
    "        \n",
    "    finally:\n",
    "        # Cleanup\n",
    "        await hub.shutdown()\n",
    "        os.unlink(settings_path)"
   ]
  },
  {
   "cell_type": "code",
   "execution_count": null,
   "metadata": {},
   "outputs": [],
   "source": [
    "# Run the test\n",
    "print(\"Testing McpExecutor run method:\")\n",
    "await run_test(test_mcp_executor_run)"
   ]
  }
 ],
 "metadata": {
  "kernelspec": {
   "display_name": "Python 3",
   "language": "python",
   "name": "python3"
  },
  "language_info": {
   "codemirror_mode": {
    "name": "ipython",
    "version": 3
   },
   "file_extension": ".py",
   "mimetype": "text/x-python",
   "name": "python",
   "nbconvert_exporter": "python",
   "pygments_lexer": "ipython3",
   "version": "3.9.0"
  }
 },
 "nbformat": 4,
 "nbformat_minor": 2
}