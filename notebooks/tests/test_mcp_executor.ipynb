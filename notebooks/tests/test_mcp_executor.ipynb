{
 "cells": [
  {
   "cell_type": "markdown",
   "metadata": {},
   "source": [
    "# Test McpExecutor Run Method\n",
    "\n",
    "This notebook tests the `run` method of the `McpExecutor` class from `autocoder.common.mcp_tools`."
   ]
  },
  {
   "cell_type": "code",
   "execution_count": 1,
   "metadata": {},
   "outputs": [],
   "source": [
    "import os\n",
    "import sys\n",
    "import json\n",
    "import asyncio\n",
    "import tempfile\n",
    "from pathlib import Path\n",
    "\n",
    "from autocoder.common.mcp_hub import McpHub, McpServer, McpTool, McpResource, McpResourceTemplate\n",
    "from autocoder.common.mcp_tools import McpExecutor\n",
    "import byzerllm"
   ]
  },
  {
   "cell_type": "code",
   "execution_count": 2,
   "metadata": {},
   "outputs": [],
   "source": [
    "# Helper function for async tests\n",
    "async def run_test(test_func):\n",
    "    \"\"\"Helper to run async test functions\"\"\"\n",
    "    try:\n",
    "        await test_func()\n",
    "        print(\"✅ Test passed\")\n",
    "    except AssertionError as e:\n",
    "        print(f\"❌ Test failed: {str(e)}\")\n",
    "    except Exception as e:\n",
    "        print(f\"❌ Test error: {str(e)}\")"
   ]
  },
  {
   "cell_type": "code",
   "execution_count": 4,
   "metadata": {},
   "outputs": [],
   "source": [
    "async def test_mcp_executor_run():\n",
    "    \"\"\"Test McpExecutor run method\"\"\"\n",
    "    # Create settings file with filesystem server config\n",
    "    with tempfile.NamedTemporaryFile(mode='w', delete=False) as f:\n",
    "        settings = {\n",
    "            \"mcpServers\": {\n",
    "                \"filesystem\": {\n",
    "                    \"command\": \"npx\",\n",
    "                    \"args\": [\n",
    "                        \"-y\",\n",
    "                        \"@modelcontextprotocol/server-filesystem\",\n",
    "                        \"/Users/allwefantasy/projects/tests\"                        \n",
    "                    ]\n",
    "                }\n",
    "            }\n",
    "        }\n",
    "        json.dump(settings, f)\n",
    "        settings_path = f.name\n",
    "    \n",
    "    try:\n",
    "        # Initialize hub and executor\n",
    "        hub = McpHub(settings_path)\n",
    "        await hub.initialize()\n",
    "        \n",
    "        llm = byzerllm.ByzerLLM.from_default_model(model=\"deepseek_chat\")\n",
    "        executor = McpExecutor(hub, llm)\n",
    "        \n",
    "        # Create test conversation\n",
    "        conversations = [{\n",
    "            \"role\": \"user\",\n",
    "            \"content\": \"List the contents of /Users/allwefantasy/projects/tests\"\n",
    "        }]\n",
    "        \n",
    "        # Run the executor\n",
    "        result = await executor.run(conversations)\n",
    "        \n",
    "        # Verify the result contains the directory listing\n",
    "        assert len(result) > 2, \"Expected result to contain directory listing\"\n",
    "        print(\"Test result:\", result[-2]['content'])\n",
    "        \n",
    "    finally:\n",
    "        # Cleanup\n",
    "        await hub.shutdown()\n",
    "        os.unlink(settings_path)"
   ]
  },
  {
   "cell_type": "code",
   "execution_count": 5,
   "metadata": {},
   "outputs": [
    {
     "name": "stdout",
     "output_type": "stream",
     "text": [
      "Testing McpExecutor run method:\n"
     ]
    },
    {
     "name": "stderr",
     "output_type": "stream",
     "text": [
      "\u001b[32m2025-01-02 18:29:53.002\u001b[0m | \u001b[31m\u001b[1mERROR   \u001b[0m | \u001b[36mautocoder.common.mcp_hub\u001b[0m:\u001b[36m_fetch_resources\u001b[0m:\u001b[36m235\u001b[0m - \u001b[31m\u001b[1mFailed to fetch resources for filesystem: code=-32601 message='Method not found' data=None\u001b[0m\n",
      "\u001b[32m2025-01-02 18:29:53.003\u001b[0m | \u001b[31m\u001b[1mERROR   \u001b[0m | \u001b[36mautocoder.common.mcp_hub\u001b[0m:\u001b[36m_fetch_resource_templates\u001b[0m:\u001b[36m253\u001b[0m - \u001b[31m\u001b[1mFailed to fetch resource templates for filesystem: 'ClientSession' object has no attribute 'list_resource_templates'\u001b[0m\n",
      "\u001b[32m2025-01-02 18:29:53.004\u001b[0m | \u001b[1mINFO    \u001b[0m | \u001b[36mautocoder.common.mcp_hub\u001b[0m:\u001b[36mupdate_server_connections\u001b[0m:\u001b[36m194\u001b[0m - \u001b[1mConnected to new MCP server: filesystem\u001b[0m\n",
      "\u001b[32m2025-01-02 18:29:53.044\u001b[0m | \u001b[1mINFO    \u001b[0m | \u001b[36mbyzerllm.utils.connect_ray\u001b[0m:\u001b[36mconnect_cluster\u001b[0m:\u001b[36m48\u001b[0m - \u001b[1mJDK 21 will be used (/Users/allwefantasy/.auto-coder/jdk-21.0.2.jdk/Contents/Home)...\u001b[0m\n",
      "2025-01-02 18:29:53,076\tINFO worker.py:1564 -- Connecting to existing Ray cluster at address: 127.0.0.1:6379...\n",
      "2025-01-02 18:29:53,093\tINFO worker.py:1740 -- Connected to Ray cluster. View the dashboard at \u001b[1m\u001b[32m127.0.0.1:8265 \u001b[39m\u001b[22m\n"
     ]
    },
    {
     "name": "stdout",
     "output_type": "stream",
     "text": [
      "❌ Test error: 'coroutine' object is not iterable\n"
     ]
    },
    {
     "name": "stderr",
     "output_type": "stream",
     "text": [
      "/var/folders/dm/0xljd5nn10b7bwwmwv8w5v100000gn/T/ipykernel_24056/1944525554.py:10: RuntimeWarning: coroutine 'McpExecutor.extract_mcp_calls' was never awaited\n",
      "  print(f\"❌ Test error: {str(e)}\")\n",
      "RuntimeWarning: Enable tracemalloc to get the object allocation traceback\n"
     ]
    }
   ],
   "source": [
    "# Run the test\n",
    "print(\"Testing McpExecutor run method:\")\n",
    "await run_test(test_mcp_executor_run)"
   ]
  }
 ],
 "metadata": {
  "kernelspec": {
   "display_name": "byzerllm",
   "language": "python",
   "name": "python3"
  },
  "language_info": {
   "codemirror_mode": {
    "name": "ipython",
    "version": 3
   },
   "file_extension": ".py",
   "mimetype": "text/x-python",
   "name": "python",
   "nbconvert_exporter": "python",
   "pygments_lexer": "ipython3",
   "version": "3.10.11"
  }
 },
 "nbformat": 4,
 "nbformat_minor": 2
}
