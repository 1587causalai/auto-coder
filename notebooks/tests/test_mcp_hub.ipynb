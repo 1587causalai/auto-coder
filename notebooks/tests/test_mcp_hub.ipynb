{
 "cells": [
  {
   "cell_type": "markdown",
   "metadata": {},
   "source": [
    "# MCP Hub 测试\n",
    "\n",
    "本笔记本用于测试 `src/autocoder/common/mcp_hub.py` 的功能。"
   ]
  },
  {
   "cell_type": "code",
   "execution_count": null,
   "metadata": {},
   "outputs": [],
   "source": [
    "# 导入必要的模块\n",
    "import os\n",
    "import sys\n",
    "import asyncio\n",
    "from pathlib import Path\n",
    "\n",
    "# 将项目根目录添加到 Python 路径\n",
    "project_root = str(Path(os.getcwd()).parent.parent)\n",
    "if project_root not in sys.path:\n",
    "    sys.path.append(project_root)\n",
    "\n",
    "# 导入 MCP Hub\n",
    "from src.autocoder.common.mcp_hub import McpHub"
   ]
  },
  {
   "cell_type": "code",
   "execution_count": null,
   "metadata": {},
   "outputs": [],
   "source": [
    "# 初始化 MCP Hub\n",
    "settings_path = \"/tmp/mcp_settings.json\"\n",
    "mcp_hub = McpHub(settings_path)"
   ]
  },
  {
   "cell_type": "code",
   "execution_count": null,
   "metadata": {},
   "outputs": [],
   "source": [
    "# 定义测试服务器配置\n",
    "test_servers = {\n",
    "    \"test_server\": {\n",
    "        \"command\": \"python\",\n",
    "        \"args\": [\"-m\", \"mcp.server.example\"],\n",
    "        \"env\": {\n",
    "            \"TEST_ENV\": \"true\"\n",
    "        }\n",
    "    }\n",
    "}\n",
    "\n",
    "# 更新服务器连接\n",
    "async def test_connections():\n",
    "    await mcp_hub.update_server_connections(test_servers)\n",
    "    servers = mcp_hub.get_servers()\n",
    "    print(f\"Connected servers: {[s.name for s in servers]}\")\n",
    "\n",
    "await test_connections()"
   ]
  },
  {
   "cell_type": "code",
   "execution_count": null,
   "metadata": {},
   "outputs": [],
   "source": [
    "# 测试工具调用\n",
    "async def test_tool_calls():\n",
    "    try:\n",
    "        result = await mcp_hub.call_tool(\"test_server\", \"test_tool\", {\"param\": \"value\"})\n",
    "        print(f\"Tool call result: {result}\")\n",
    "    except Exception as e:\n",
    "        print(f\"Tool call failed: {str(e)}\")\n",
    "\n",
    "await test_tool_calls()"
   ]
  },
  {
   "cell_type": "code",
   "execution_count": null,
   "metadata": {},
   "outputs": [],
   "source": [
    "# 测试资源读取\n",
    "async def test_resource_read():\n",
    "    try:\n",
    "        resource = await mcp_hub.read_resource(\"test_server\", \"test://resource\")\n",
    "        print(f\"Resource content: {resource}\")\n",
    "    except Exception as e:\n",
    "        print(f\"Resource read failed: {str(e)}\")\n",
    "\n",
    "await test_resource_read()"
   ]
  },
  {
   "cell_type": "code",
   "execution_count": null,
   "metadata": {},
   "outputs": [],
   "source": [
    "# 关闭所有连接\n",
    "async def shutdown():\n",
    "    await mcp_hub.shutdown()\n",
    "    print(\"All MCP connections closed\")\n",
    "\n",
    "await shutdown()"
   ]
  },
  {
   "cell_type": "markdown",
   "metadata": {},
   "source": [
    "## 测试说明\n",
    "\n",
    "1. 首先初始化 MCP Hub 并设置测试服务器配置\n",
    "2. 测试服务器连接功能\n",
    "3. 测试工具调用功能\n",
    "4. 测试资源读取功能\n",
    "5. 最后关闭所有连接\n",
    "\n",
    "注意：实际测试时需要根据具体的 MCP 服务器实现调整测试参数。"
   ]
  }
 ],
 "metadata": {
  "kernelspec": {
   "display_name": "Python 3",
   "language": "python",
   "name": "python3"
  },
  "language_info": {
   "codemirror_mode": {
    "name": "ipython",
    "version": 3
   },
   "file_extension": ".py",
   "mimetype": "text/x-python",
   "name": "python",
   "nbconvert_exporter": "python",
   "pygments_lexer": "ipython3",
   "version": "3.9.0"
  }
 },
 "nbformat": 4,
 "nbformat_minor": 4
}