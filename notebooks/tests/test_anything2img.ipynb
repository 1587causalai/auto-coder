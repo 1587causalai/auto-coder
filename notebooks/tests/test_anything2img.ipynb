{
 "cells": [
  {
   "cell_type": "markdown",
   "metadata": {},
   "source": [
    "# Anything2Img 测试\n",
    "\n",
    "本 notebook 用于测试 `src/autocoder/common/anything2img.py` 模块的功能。"
   ]
  },
  {
   "cell_type": "code",
   "execution_count": null,
   "metadata": {},
   "outputs": [],
   "source": [
    "# 导入必要的模块\n",
    "import os\n",
    "import byzerllm\n",
    "from autocoder.common import AutoCoderArgs\n",
    "from autocoder.common.anything2img import Anything2Img\n",
    "from loguru import logger\n",
    "\n",
    "# 初始化测试环境\n",
    "logger.remove()\n",
    "logger.add(lambda msg: print(msg), level=\"INFO\")\n",
    "\n",
    "# 创建测试输出目录\n",
    "test_output_dir = \"./test_output\"\n",
    "os.makedirs(test_output_dir, exist_ok=True)\n",
    "\n",
    "# 初始化 AutoCoderArgs\n",
    "args = AutoCoderArgs(\n",
    "    output=test_output_dir,\n",
    "    model=\"deepseek_chat\",\n",
    "    anti_quota_limit=0.1\n",
    ")\n",
    "\n",
    "# 初始化 LLM\n",
    "llm = byzerllm.ByzerLLM.from_default_model(model=\"deepseek_vl\")\n",
    "\n",
    "# 初始化 Anything2Img\n",
    "converter = Anything2Img(llm, args)"
   ]
  },
  {
   "cell_type": "markdown",
   "metadata": {},
   "source": [
    "## 测试 PDF 转换"
   ]
  },
  {
   "cell_type": "code",
   "execution_count": null,
   "metadata": {},
   "outputs": [],
   "source": [
    "# 测试 PDF 文件转换\n",
    "pdf_file = \"test.pdf\"  # 请确保测试目录下有这个文件\n",
    "if os.path.exists(pdf_file):\n",
    "    image_paths = converter.convert_pdf(pdf_file)\n",
    "    print(f\"转换后的图片路径: {image_paths}\")\n",
    "    \n",
    "    # 测试图片分析\n",
    "    for img_path in image_paths:\n",
    "        page_info = converter.analyze_image.with_llm(llm).with_return_type(Page).run(img_path)\n",
    "        print(f\"图片分析结果: {page_info}\")\n",
    "else:\n",
    "    print(f\"测试文件 {pdf_file} 不存在，跳过 PDF 测试\")"
   ]
  },
  {
   "cell_type": "markdown",
   "metadata": {},
   "source": [
    "## 测试 DOCX 转换"
   ]
  },
  {
   "cell_type": "code",
   "execution_count": null,
   "metadata": {},
   "outputs": [],
   "source": [
    "# 测试 DOCX 文件转换\n",
    "docx_file = \"test.docx\"  # 请确保测试目录下有这个文件\n",
    "if os.path.exists(docx_file):\n",
    "    image_paths = converter.convert_docx(docx_file)\n",
    "    print(f\"转换后的图片路径: {image_paths}\")\n",
    "    \n",
    "    # 测试图片分析\n",
    "    for img_path in image_paths:\n",
    "        page_info = converter.analyze_image.with_llm(llm).with_return_type(Page).run(img_path)\n",
    "        print(f\"图片分析结果: {page_info}\")\n",
    "else:\n",
    "    print(f\"测试文件 {docx_file} 不存在，跳过 DOCX 测试\")"
   ]
  },
  {
   "cell_type": "markdown",
   "metadata": {},
   "source": [
    "## 测试 Markdown 生成"
   ]
  },
  {
   "cell_type": "code",
   "execution_count": null,
   "metadata": {},
   "outputs": [],
   "source": [
    "# 测试 Markdown 生成\n",
    "test_file = pdf_file if os.path.exists(pdf_file) else docx_file if os.path.exists(docx_file) else None\n",
    "if test_file:\n",
    "    markdown_content = converter.to_markdown(test_file)\n",
    "    print(\"生成的 Markdown 内容:\")\n",
    "    print(markdown_content)\n",
    "    \n",
    "    # 保存 Markdown 文件\n",
    "    output_md = os.path.join(test_output_dir, \"output.md\")\n",
    "    with open(output_md, \"w\", encoding=\"utf-8\") as f:\n",
    "        f.write(markdown_content)\n",
    "    print(f\"Markdown 文件已保存到: {output_md}\")\n",
    "else:\n",
    "    print(\"没有可用的测试文件，跳过 Markdown 测试\")"
   ]
  },
  {
   "cell_type": "markdown",
   "metadata": {},
   "source": [
    "## 清理测试环境"
   ]
  },
  {
   "cell_type": "code",
   "execution_count": null,
   "metadata": {},
   "outputs": [],
   "source": [
    "# 删除测试输出目录\n",
    "import shutil\n",
    "shutil.rmtree(test_output_dir)\n",
    "print(f\"已删除测试输出目录: {test_output_dir}\")"
   ]
  }
 ],
 "metadata": {
  "kernelspec": {
   "display_name": "Python 3",
   "language": "python",
   "name": "python3"
  },
  "language_info": {
   "codemirror_mode": {
    "name": "ipython",
    "version": 3
   },
   "file_extension": ".py",
   "mimetype": "text/x-python",
   "name": "python",
   "nbconvert_exporter": "python",
   "pygments_lexer": "ipython3",
   "version": "3.10.11"
  }
 },
 "nbformat": 4,
 "nbformat_minor": 4
}
