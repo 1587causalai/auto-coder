{
 "cells": [
  {
   "cell_type": "markdown",
   "metadata": {},
   "source": [
    "# Test AutoFileGroup\n",
    "This notebook tests the grouping functionality in AutoFileGroup class"
   ]
  },
  {
   "cell_type": "code",
   "execution_count": 2,
   "metadata": {},
   "outputs": [],
   "source": [
    "import os\n",
    "import sys\n",
    "import yaml\n",
    "from loguru import logger\n",
    "\n",
    "from autocoder.agent.auto_filegroup import AutoFileGroup\n",
    "import byzerllm"
   ]
  },
  {
   "cell_type": "markdown",
   "metadata": {},
   "source": [
    "## Create test data directory and files"
   ]
  },
  {
   "cell_type": "code",
   "execution_count": 3,
   "metadata": {},
   "outputs": [
    {
     "name": "stdout",
     "output_type": "stream",
     "text": [
      "Created 5 test files in .tmp/test_auto_filegroup\n"
     ]
    }
   ],
   "source": [
    "# Create test directory\n",
    "test_dir = \".tmp/test_auto_filegroup\"\n",
    "os.makedirs(test_dir, exist_ok=True)\n",
    "\n",
    "# Create test YAML files\n",
    "test_data = [\n",
    "    {\n",
    "        \"name\": \"001_feature1.yml\",\n",
    "        \"content\": {\n",
    "            \"query\": \"Add input validation to login function\",\n",
    "            \"urls\": [\n",
    "                \"/src/auth/login.py\",\n",
    "                \"/src/utils/validation.py\"\n",
    "            ]\n",
    "        }\n",
    "    },\n",
    "    {\n",
    "        \"name\": \"002_feature2.yml\",\n",
    "        \"content\": {\n",
    "            \"query\": \"Implement password reset functionality\",\n",
    "            \"urls\": [\n",
    "                \"/src/auth/password_reset.py\",\n",
    "                \"/src/auth/email.py\"\n",
    "            ]\n",
    "        }\n",
    "    },\n",
    "    {\n",
    "        \"name\": \"003_feature3.yml\", \n",
    "        \"content\": {\n",
    "            \"query\": \"Add caching to database queries\",\n",
    "            \"urls\": [\n",
    "                \"/src/db/cache.py\",\n",
    "                \"/src/db/queries.py\"\n",
    "            ]\n",
    "        }\n",
    "    },\n",
    "    {\n",
    "        \"name\": \"004_feature4.yml\",\n",
    "        \"content\": {\n",
    "            \"query\": \"Implement rate limiting for API endpoints\",\n",
    "            \"urls\": [\n",
    "                \"/src/api/rate_limiter.py\",\n",
    "                \"/src/api/middleware.py\"\n",
    "            ]\n",
    "        }\n",
    "    },\n",
    "    {\n",
    "        \"name\": \"005_feature5.yml\",\n",
    "        \"content\": {\n",
    "            \"query\": \"Add email verification after signup\",\n",
    "            \"urls\": [\n",
    "                \"/src/auth/email.py\",\n",
    "                \"/src/auth/signup.py\"\n",
    "            ]\n",
    "        }\n",
    "    }\n",
    "]\n",
    "\n",
    "# Write test files\n",
    "for item in test_data:\n",
    "    file_path = os.path.join(test_dir, item[\"name\"])\n",
    "    with open(file_path, \"w\", encoding=\"utf-8\") as f:\n",
    "        yaml.dump(item[\"content\"], f)\n",
    "\n",
    "print(f\"Created {len(test_data)} test files in {test_dir}\")"
   ]
  },
  {
   "cell_type": "markdown",
   "metadata": {},
   "source": []
  },
  {
   "cell_type": "markdown",
   "metadata": {},
   "source": [
    "## Initialize LLM and test grouping"
   ]
  },
  {
   "cell_type": "code",
   "execution_count": 5,
   "metadata": {},
   "outputs": [
    {
     "name": "stderr",
     "output_type": "stream",
     "text": [
      "\u001b[32m2024-12-21 11:37:03.299\u001b[0m | \u001b[1mINFO    \u001b[0m | \u001b[36mbyzerllm.utils.connect_ray\u001b[0m:\u001b[36mconnect_cluster\u001b[0m:\u001b[36m48\u001b[0m - \u001b[1mJDK 21 will be used (/Users/allwefantasy/.auto-coder/jdk-21.0.2.jdk/Contents/Home)...\u001b[0m\n",
      "2024-12-21 11:37:03,369\tINFO worker.py:1564 -- Connecting to existing Ray cluster at address: 127.0.0.1:6379...\n",
      "2024-12-21 11:37:03,370\tINFO worker.py:1582 -- Calling ray.init() again after it has already been called.\n"
     ]
    },
    {
     "name": "stdout",
     "output_type": "stream",
     "text": [
      "\n",
      "File Grouping Results:\n",
      "=====================\n",
      "\n",
      "Group 1: Authentication and Authorization\n",
      "Queries:\n",
      "- Add input validation to login function\n",
      "- Implement password reset functionality\n",
      "- Add email verification after signup\n",
      "Files:\n",
      "- /src/auth/login.py\n",
      "- /src/utils/validation.py\n",
      "- /src/auth/password_reset.py\n",
      "- /src/auth/email.py\n",
      "- /src/auth/signup.py\n",
      "\n",
      "Group 2: Database and Caching\n",
      "Queries:\n",
      "- Add caching to database queries\n",
      "Files:\n",
      "- /src/db/cache.py\n",
      "- /src/db/queries.py\n",
      "\n",
      "Group 3: API Management\n",
      "Queries:\n",
      "- Implement rate limiting for API endpoints\n",
      "Files:\n",
      "- /src/api/rate_limiter.py\n",
      "- /src/api/middleware.py\n"
     ]
    }
   ],
   "source": [
    "llm = byzerllm.ByzerLLM.from_default_model(model=\"deepseek_chat\")\n",
    "\n",
    "# Create AutoFileGroup instance\n",
    "grouper = AutoFileGroup(llm=llm, actions_dir=test_dir)\n",
    "\n",
    "# Test file grouping\n",
    "groups = grouper.group_files()\n",
    "\n",
    "print(\"\\nFile Grouping Results:\")\n",
    "print(\"=====================\")\n",
    "for idx, group in enumerate(groups, 1):\n",
    "    print(f\"\\nGroup {idx}: {group.name}\")\n",
    "    print(\"Queries:\")\n",
    "    for query in group.queries:\n",
    "        print(f\"- {query}\")\n",
    "    print(\"Files:\")\n",
    "    for url in group.urls:\n",
    "        print(f\"- {url}\")"
   ]
  },
  {
   "cell_type": "markdown",
   "metadata": {},
   "source": [
    "## Cleanup"
   ]
  },
  {
   "cell_type": "code",
   "execution_count": 6,
   "metadata": {},
   "outputs": [
    {
     "name": "stdout",
     "output_type": "stream",
     "text": [
      "\n",
      "Cleaned up test directory: .tmp/test_auto_filegroup\n"
     ]
    }
   ],
   "source": [
    "# Remove test directory and files\n",
    "import shutil\n",
    "shutil.rmtree(test_dir)\n",
    "print(f\"\\nCleaned up test directory: {test_dir}\")"
   ]
  }
 ],
 "metadata": {
  "kernelspec": {
   "display_name": "Python 3",
   "language": "python",
   "name": "python3"
  },
  "language_info": {
   "codemirror_mode": {
    "name": "ipython",
    "version": 3
   },
   "file_extension": ".py",
   "mimetype": "text/x-python",
   "name": "python",
   "nbconvert_exporter": "python",
   "pygments_lexer": "ipython3",
   "version": "3.10.11"
  }
 },
 "nbformat": 4,
 "nbformat_minor": 2
}
