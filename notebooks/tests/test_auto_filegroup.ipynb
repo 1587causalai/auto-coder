{
 "cells": [
  {
   "cell_type": "markdown",
   "metadata": {},
   "source": [
    "# Test AutoFileGroup\n",
    "This notebook tests the grouping functionality in AutoFileGroup class"
   ]
  },
  {
   "cell_type": "code",
   "execution_count": 1,
   "metadata": {},
   "outputs": [],
   "source": [
    "import os\n",
    "import sys\n",
    "import yaml\n",
    "from loguru import logger\n",
    "\n",
    "from autocoder.agent.auto_filegroup import AutoFileGroup\n",
    "import byzerllm"
   ]
  },
  {
   "cell_type": "markdown",
   "metadata": {},
   "source": [
    "## Create test data directory and files"
   ]
  },
  {
   "cell_type": "code",
   "execution_count": 3,
   "metadata": {},
   "outputs": [
    {
     "name": "stdout",
     "output_type": "stream",
     "text": [
      "Created 5 test files in .tmp/test_auto_filegroup\n"
     ]
    }
   ],
   "source": [
    "# Create test directory\n",
    "test_dir = \".tmp/test_auto_filegroup\"\n",
    "os.makedirs(test_dir, exist_ok=True)\n",
    "\n",
    "# Create test YAML files\n",
    "test_data = [\n",
    "    {\n",
    "        \"name\": \"001_feature1.yml\",\n",
    "        \"content\": {\n",
    "            \"query\": \"Add input validation to login function\",\n",
    "            \"urls\": [\n",
    "                \"/src/auth/login.py\",\n",
    "                \"/src/utils/validation.py\"\n",
    "            ]\n",
    "        }\n",
    "    },\n",
    "    {\n",
    "        \"name\": \"002_feature2.yml\",\n",
    "        \"content\": {\n",
    "            \"query\": \"Implement password reset functionality\",\n",
    "            \"urls\": [\n",
    "                \"/src/auth/password_reset.py\",\n",
    "                \"/src/auth/email.py\"\n",
    "            ]\n",
    "        }\n",
    "    },\n",
    "    {\n",
    "        \"name\": \"003_feature3.yml\", \n",
    "        \"content\": {\n",
    "            \"query\": \"Add caching to database queries\",\n",
    "            \"urls\": [\n",
    "                \"/src/db/cache.py\",\n",
    "                \"/src/db/queries.py\"\n",
    "            ]\n",
    "        }\n",
    "    },\n",
    "    {\n",
    "        \"name\": \"004_feature4.yml\",\n",
    "        \"content\": {\n",
    "            \"query\": \"Implement rate limiting for API endpoints\",\n",
    "            \"urls\": [\n",
    "                \"/src/api/rate_limiter.py\",\n",
    "                \"/src/api/middleware.py\"\n",
    "            ]\n",
    "        }\n",
    "    },\n",
    "    {\n",
    "        \"name\": \"005_feature5.yml\",\n",
    "        \"content\": {\n",
    "            \"query\": \"Add email verification after signup\",\n",
    "            \"urls\": [\n",
    "                \"/src/auth/email.py\",\n",
    "                \"/src/auth/signup.py\"\n",
    "            ]\n",
    "        }\n",
    "    }\n",
    "]\n",
    "\n",
    "# Write test files\n",
    "for item in test_data:\n",
    "    file_path = os.path.join(test_dir,\"actions\", item[\"name\"])\n",
    "    with open(file_path, \"w\", encoding=\"utf-8\") as f:\n",
    "        yaml.dump(item[\"content\"], f)\n",
    "\n",
    "print(f\"Created {len(test_data)} test files in {test_dir}\")"
   ]
  },
  {
   "cell_type": "markdown",
   "metadata": {},
   "source": [
    "## Initialize LLM and test grouping"
   ]
  },
  {
   "cell_type": "code",
   "execution_count": 1,
   "metadata": {},
   "outputs": [
    {
     "name": "stderr",
     "output_type": "stream",
     "text": [
      "\u001b[32m2024-12-21 11:52:18.684\u001b[0m | \u001b[1mINFO    \u001b[0m | \u001b[36mbyzerllm.utils.connect_ray\u001b[0m:\u001b[36mconnect_cluster\u001b[0m:\u001b[36m48\u001b[0m - \u001b[1mJDK 21 will be used (/Users/allwefantasy/.auto-coder/jdk-21.0.2.jdk/Contents/Home)...\u001b[0m\n",
      "2024-12-21 11:52:18,738\tINFO worker.py:1564 -- Connecting to existing Ray cluster at address: 127.0.0.1:6379...\n",
      "2024-12-21 11:52:18,759\tINFO worker.py:1740 -- Connected to Ray cluster. View the dashboard at \u001b[1m\u001b[32m127.0.0.1:8265 \u001b[39m\u001b[22m\n"
     ]
    },
    {
     "name": "stdout",
     "output_type": "stream",
     "text": [
      "\n",
      "File Grouping Results:\n",
      "=====================\n",
      "\n",
      "Group 1: 搜索功能实现\n",
      "Queries:\n",
      "- 在 autocoder/common 目录中添加一个 search.py ，参考 search_with_lepton，实现一个 Search 类，支持 bing,google,baidu等endpoint,获取搜索结果，返回 contexts,对该contexts生成一个pydantic对象。\n",
      "Files:\n",
      "- https://raw.githubusercontent.com/leptonai/search_with_lepton/main/search_with_lepton.py\n",
      "\n",
      "Group 2: LLM重排序功能\n",
      "Queries:\n",
      "- llm_retrank.py 中，postprocess_nodes 的具体逻辑是，1. 通过 map 给 nodes 里的每一个元素添加一个全局 index 序号 2. 按choice_batch_size对 nodes 进行切分，3. 对 rerank 的结果进行解析，得到文档序号和得分。（注意，尽量解析的鲁棒性）4. 对每个 batch 进行 rerank，然后调用 rerank 函数，确保 rerank 里的序号是全局的 5. 最后合并结果,按照得分排序，返回结果 6. 在 ./tests/ 目录下添加 llm_rerank 的测试用例，确保覆盖所有的逻辑。\n",
      "Files:\n",
      "- /Users/allwefantasy/projects/llama_index/llama-index-core/llama_index/core/schema.py\n",
      "\n",
      "Group 3: Collection和Description支持\n",
      "Queries:\n",
      "- 请阅读 command_args.py，simple_rag.py,common/__init__.py 三个文件的源码，我们希望实现如下的新功能：1. 支持 collection 的概念，collection是一个字符串，用来区分不同的索引，索引的时候，可以指定collection，查询的时候也可以指定collection。2. 支持 description 的概念，description是一个字符串，用来描述索引的内容,方便查询的时候，根据description来进行路由到对应的索引。3. 构建的时候，需要同时指定collection和description 4. 查询的时候可以指定collections或者description，collections是一个字符串，多个collection之间用逗号分隔。如果指定了collections，那么查询的时候会遍历所有的collection, 如果指定了description，那么查询的时候会根据description来进行路由到对应的索引。对应的路由实现参考： RouterQueryEngine.txt 文档里的介绍。\n",
      "Files:\n",
      "- /Users/allwefantasy/projects/auto-coder/temp_docs/RouterQueryEngine.txt\n",
      "\n",
      "Group 4: SimpleRAG功能修改\n",
      "Queries:\n",
      "- 请阅读 command_args.py，simple_rag.py,common/__init__.py 三个文件的源码。按如下要求修改simple_rag.py代码：### 初始化 去掉 self.namespace = \"default\" self.chunk_collection = \"default\" 然后 self.storage_context 改成 self.storage_contexts 为一个map对象，key为collection，value为storage_context对象。self.simple_retrieval 改成 self.simple_retrievals 为一个map对象，key为collection，value为simple_retrieval对象。根据 （args.collection或者args.collections） 和 args.description 来初始化 storage_contexts 和 simple_retrievals ### build 方法 build 只允许在 args.collection 有值的情况下执行，否则报错。根据 args.collection 来选择 storage_contexts 和 simple_retrievals 中的值。### stream_search/retrieve/stream_chat_oai/stream_chat_repl/search 方法 只允许在 args.collections 有值的情况下执行，否则报错。需要根据 collection 来选择 storage_contexts 和 simple_retrievals 中的值。如果 args.collections 只有一个值(多个值会按逗号分隔)，则按原有逻辑执行。如果 args.collections 有多个值,并且args.description没有值的时候，则按照顺序执行。如果 args.collections 有多个值,并且args.description有值的时候，则参考 RouterQueryEngine.txt 文档中的描述，用 QueryEngineTool 将 各个 query_engine 转换为tool, RouterQueryEngine 来形成一个新的 query_engine,然后使用新的 query_engine 来执行。一个小tips, 可以抽象出一个方法，来完成完成上面的逻辑，返回合适的query_engine, 然后在 stream_search/retrieve/stream_chat_oai/stream_chat_repl/search 方法中调用这个方法。\n",
      "Files:\n",
      "- /Users/allwefantasy/projects/auto-coder/temp_docs/RouterQueryEngine.txt\n"
     ]
    }
   ],
   "source": [
    "import os\n",
    "import sys\n",
    "import yaml\n",
    "from loguru import logger\n",
    "\n",
    "from autocoder.agent.auto_filegroup import AutoFileGroup\n",
    "import byzerllm\n",
    "\n",
    "llm = byzerllm.ByzerLLM.from_default_model(model=\"deepseek_chat\")\n",
    "\n",
    "# Create AutoFileGroup instance\n",
    "grouper = AutoFileGroup(llm=llm, project_dir=\"/Users/allwefantasy/projects/auto-coder\")\n",
    "\n",
    "# Test file grouping\n",
    "groups = grouper.group_files()\n",
    "\n",
    "print(\"\\nFile Grouping Results:\")\n",
    "print(\"=====================\")\n",
    "for idx, group in enumerate(groups, 1):\n",
    "    print(f\"\\nGroup {idx}: {group.name}\")\n",
    "    print(\"Queries:\")\n",
    "    for query in group.queries:\n",
    "        print(f\"- {query}\")\n",
    "    print(\"Files:\")\n",
    "    for url in group.urls:\n",
    "        print(f\"- {url}\")"
   ]
  },
  {
   "cell_type": "markdown",
   "metadata": {},
   "source": [
    "## Cleanup"
   ]
  },
  {
   "cell_type": "code",
   "execution_count": 6,
   "metadata": {},
   "outputs": [
    {
     "name": "stdout",
     "output_type": "stream",
     "text": [
      "\n",
      "Cleaned up test directory: .tmp/test_auto_filegroup\n"
     ]
    }
   ],
   "source": [
    "# Remove test directory and files\n",
    "import shutil\n",
    "shutil.rmtree(test_dir)\n",
    "print(f\"\\nCleaned up test directory: {test_dir}\")"
   ]
  }
 ],
 "metadata": {
  "kernelspec": {
   "display_name": "Python 3",
   "language": "python",
   "name": "python3"
  },
  "language_info": {
   "codemirror_mode": {
    "name": "ipython",
    "version": 3
   },
   "file_extension": ".py",
   "mimetype": "text/x-python",
   "name": "python",
   "nbconvert_exporter": "python",
   "pygments_lexer": "ipython3",
   "version": "3.10.11"
  }
 },
 "nbformat": 4,
 "nbformat_minor": 2
}
