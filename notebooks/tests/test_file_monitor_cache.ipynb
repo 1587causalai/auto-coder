{
 "cells": [
  {
   "cell_type": "markdown",
   "metadata": {},
   "source": [
    "# Test FileMonitor Cache Operations\n",
    "\n",
    "This notebook tests the file monitoring functionality of AutoCoderRAGDocListener, including:\n",
    "- File addition\n",
    "- File modification\n",
    "- File deletion"
   ]
  },
  {
   "cell_type": "code",
   "execution_count": null,
   "metadata": {},
   "outputs": [],
   "source": [
    "import os\n",
    "import tempfile\n",
    "import shutil\n",
    "import time\n",
    "from autocoder.rag.variable_holder import VariableHolder\n",
    "from tokenizers import Tokenizer\n",
    "\n",
    "# Initialize tokenizer\n",
    "VariableHolder.TOKENIZER_PATH = \"/Users/allwefantasy/Downloads/tokenizer.json\"\n",
    "VariableHolder.TOKENIZER_MODEL = Tokenizer.from_file(VariableHolder.TOKENIZER_PATH)\n",
    "\n",
    "from autocoder.rag.cache.file_monitor_cache import AutoCoderRAGDocListener\n",
    "\n",
    "# Create a temporary directory for testing\n",
    "test_dir = tempfile.mkdtemp()\n",
    "print(f\"Created test directory: {test_dir}\")"
   ]
  },
  {
   "cell_type": "code",
   "execution_count": null,
   "metadata": {},
   "outputs": [],
   "source": [
    "# Initialize the cache manager\n",
    "cache_manager = AutoCoderRAGDocListener(\n",
    "    path=test_dir,\n",
    "    ignore_spec=None,\n",
    "    required_exts=[\".txt\", \".py\"]\n",
    ")\n",
    "\n",
    "# Give it some time to initialize\n",
    "time.sleep(2)"
   ]
  },
  {
   "cell_type": "code",
   "execution_count": null,
   "metadata": {},
   "outputs": [],
   "source": [
    "# Test file addition\n",
    "def test_file_addition():\n",
    "    # Create a test file\n",
    "    test_file = os.path.join(test_dir, \"test1.txt\")\n",
    "    with open(test_file, \"w\") as f:\n",
    "        f.write(\"This is a test file\")\n",
    "    \n",
    "    # Wait for the file monitor to detect the change\n",
    "    time.sleep(2)\n",
    "    \n",
    "    # Get cache and check if file is added\n",
    "    cache = cache_manager.get_cache()\n",
    "    print(\"\\nCache after adding file:\")\n",
    "    for file_path, data in cache.items():\n",
    "        print(f\"File: {file_path}\")\n",
    "        print(f\"Content: {data['content']}\")\n",
    "\n",
    "test_file_addition()"
   ]
  },
  {
   "cell_type": "code",
   "execution_count": null,
   "metadata": {},
   "outputs": [],
   "source": [
    "# Test file modification\n",
    "def test_file_modification():\n",
    "    # Modify the test file\n",
    "    test_file = os.path.join(test_dir, \"test1.txt\")\n",
    "    with open(test_file, \"w\") as f:\n",
    "        f.write(\"This is a modified test file\")\n",
    "    \n",
    "    # Wait for the file monitor to detect the change\n",
    "    time.sleep(2)\n",
    "    \n",
    "    # Get cache and check if file content is updated\n",
    "    cache = cache_manager.get_cache()\n",
    "    print(\"\\nCache after modifying file:\")\n",
    "    for file_path, data in cache.items():\n",
    "        print(f\"File: {file_path}\")\n",
    "        print(f\"Content: {data['content']}\")\n",
    "\n",
    "test_file_modification()"
   ]
  },
  {
   "cell_type": "code",
   "execution_count": null,
   "metadata": {},
   "outputs": [],
   "source": [
    "# Test file deletion\n",
    "def test_file_deletion():\n",
    "    # Delete the test file\n",
    "    test_file = os.path.join(test_dir, \"test1.txt\")\n",
    "    os.remove(test_file)\n",
    "    \n",
    "    # Wait for the file monitor to detect the change\n",
    "    time.sleep(2)\n",
    "    \n",
    "    # Get cache and verify file is removed\n",
    "    cache = cache_manager.get_cache()\n",
    "    print(\"\\nCache after deleting file:\")\n",
    "    print(f\"Files in cache: {list(cache.keys())}\")\n",
    "\n",
    "test_file_deletion()"
   ]
  },
  {
   "cell_type": "code",
   "execution_count": null,
   "metadata": {},
   "outputs": [],
   "source": [
    "# Test with Python files\n",
    "def test_python_file():\n",
    "    # Create a Python test file\n",
    "    test_file = os.path.join(test_dir, \"test.py\")\n",
    "    with open(test_file, \"w\") as f:\n",
    "        f.write(\"def hello():\\n    print('Hello World!')\")\n",
    "    \n",
    "    # Wait for the file monitor to detect the change\n",
    "    time.sleep(2)\n",
    "    \n",
    "    # Get cache and check if file is added\n",
    "    cache = cache_manager.get_cache()\n",
    "    print(\"\\nCache after adding Python file:\")\n",
    "    for file_path, data in cache.items():\n",
    "        print(f\"File: {file_path}\")\n",
    "        print(f\"Content: {data['content']}\")\n",
    "\n",
    "test_python_file()"
   ]
  },
  {
   "cell_type": "code",
   "execution_count": null,
   "metadata": {},
   "outputs": [],
   "source": [
    "# Cleanup\n",
    "def cleanup():\n",
    "    cache_manager.stop()\n",
    "    shutil.rmtree(test_dir)\n",
    "    print(f\"\\nCleaned up test directory: {test_dir}\")\n",
    "\n",
    "cleanup()"
   ]
  }
 ],
 "metadata": {
  "kernelspec": {
   "display_name": "Python 3",
   "language": "python",
   "name": "python3"
  },
  "language_info": {
   "codemirror_mode": {
    "name": "ipython",
    "version": 3
   },
   "file_extension": ".py",
   "mimetype": "text/x-python",
   "name": "python",
   "nbconvert_exporter": "python",
   "pygments_lexer": "ipython3",
   "version": "3.10.11"
  }
 },
 "nbformat": 4,
 "nbformat_minor": 4
}