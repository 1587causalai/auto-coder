{
 "cells": [
  {
   "cell_type": "markdown",
   "metadata": {},
   "source": [
    "# Test Long Context RAG Answer Question\n",
    "\n",
    "This notebook tests the `_answer_question` functionality in the `LongContextRAG` class."
   ]
  },
  {
   "cell_type": "code",
   "execution_count": null,
   "metadata": {},
   "outputs": [],
   "source": [
    "import os\n",
    "import sys\n",
    "from pathlib import Path\n",
    "import tempfile\n",
    "from loguru import logger\n",
    "from autocoder.rag.long_context_rag import LongContextRAG\n",
    "from autocoder.rag.rag_config import RagConfig\n",
    "from autocoder.rag.cache.simple_cache import AutoCoderRAGAsyncUpdateQueue\n",
    "from autocoder.rag.variable_holder import VariableHolder\n",
    "from tokenizers import Tokenizer\n",
    "\n",
    "# Setup tokenizer\n",
    "VariableHolder.TOKENIZER_PATH = \"/Users/allwefantasy/Downloads/tokenizer.json\"\n",
    "VariableHolder.TOKENIZER_MODEL = Tokenizer.from_file(VariableHolder.TOKENIZER_PATH)"
   ]
  },
  {
   "cell_type": "code",
   "execution_count": null,
   "metadata": {},
   "outputs": [],
   "source": [
    "# Create test files and directory\n",
    "test_dir = tempfile.mkdtemp()\n",
    "print(f\"Created test directory: {test_dir}\")\n",
    "\n",
    "# Create a test Python file\n",
    "test_file = os.path.join(test_dir, \"test_code.py\")\n",
    "with open(test_file, \"w\") as f:\n",
    "    f.write(\"\"\"\n",
    "def calculate_sum(a: int, b: int) -> int:\n",
    "    \"\"\"Calculate the sum of two integers.\"\"\"\n",
    "    return a + b\n",
    "\n",
    "def calculate_product(a: int, b: int) -> int:\n",
    "    \"\"\"Calculate the product of two integers.\"\"\"\n",
    "    return a * b\n",
    "    \"\"\")"
   ]
  },
  {
   "cell_type": "code",
   "execution_count": null,
   "metadata": {},
   "outputs": [],
   "source": [
    "# Initialize RAG components\n",
    "config = RagConfig(\n",
    "    model=\"gpt-4-1106-preview\",\n",
    "    path=test_dir,\n",
    "    required_exts=[\".py\"],\n",
    "    cache_type=\"simple\"\n",
    ")\n",
    "\n",
    "rag = LongContextRAG(config)\n",
    "\n",
    "# Test questions\n",
    "test_questions = [\n",
    "    \"What does the calculate_sum function do?\",\n",
    "    \"Show me all the functions that work with integers\",\n",
    "    \"What's the return type of calculate_product?\"\n",
    "]\n",
    "\n",
    "# Test answers\n",
    "for question in test_questions:\n",
    "    print(f\"\\nQuestion: {question}\")\n",
    "    answer = rag._answer_question(question)\n",
    "    print(f\"Answer: {answer}\")"
   ]
  },
  {
   "cell_type": "code",
   "execution_count": null,
   "metadata": {},
   "outputs": [],
   "source": [
    "# Clean up\n",
    "import shutil\n",
    "shutil.rmtree(test_dir)\n",
    "print(f\"Cleaned up test directory: {test_dir}\")"
   ]
  }
 ],
 "metadata": {
  "kernelspec": {
   "display_name": "Python 3",
   "language": "python",
   "name": "python3"
  },
  "language_info": {
   "codemirror_mode": {
    "name": "ipython",
    "version": 3
   },
   "file_extension": ".py",
   "mimetype": "text/x-python",
   "name": "python",
   "nbconvert_exporter": "python",
   "pygments_lexer": "ipython3",
   "version": "3.10.11"
  }
 },
 "nbformat": 4,
 "nbformat_minor": 4
}