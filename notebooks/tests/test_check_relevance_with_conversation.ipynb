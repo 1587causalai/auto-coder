{
 "cells": [
  {
   "cell_type": "markdown",
   "metadata": {},
   "source": [
    "# Testing _check_relevance_with_conversation Function\n",
    "\n",
    "This notebook demonstrates how to use and test the `_check_relevance_with_conversation` function from the `doc_filter.py` module."
   ]
  },
  {
   "cell_type": "code",
   "execution_count": null,
   "metadata": {},
   "source": [
    "import sys\n",
    "import os\n",
    "sys.path.append(\"../../src\")\n",
    "\n",
    "from autocoder.rag.doc_filter import DocFilter\n",
    "import byzerllm\n",
    "\n",
    "# Initialize ByzerLLM\n",
    "llm = byzerllm.ByzerLLM()\n",
    "llm.setup_default_model_name(\"deepseek_chat\")"
   ]
  },
  {
   "cell_type": "markdown",
   "metadata": {},
   "source": [
    "## Create Sample Data\n",
    "\n",
    "Let's create some sample conversations and documents to test the relevance checking."
   ]
  },
  {
   "cell_type": "code",
   "execution_count": null,
   "metadata": {},
   "source": [
    "# Sample conversation\n",
    "conversations = [\n",
    "    {\"role\": \"user\", \"content\": \"How do I use the ByzerLLM API?\"},\n",
    "    {\"role\": \"assistant\", \"content\": \"ByzerLLM provides a simple API for interacting with language models.\"},\n",
    "    {\"role\": \"user\", \"content\": \"Can you show me how to deploy a model?\"}\n",
    "]\n",
    "\n",
    "# Sample document\n",
    "document = \"\"\"\n",
    "# Deploying Models with ByzerLLM\n",
    "\n",
    "To deploy a model using ByzerLLM, follow these steps:\n",
    "\n",
    "1. Initialize the client\n",
    "2. Configure model parameters\n",
    "3. Deploy the model\n",
    "\n",
    "Example:\n",
    "```python\n",
    "import byzerllm\n",
    "llm = byzerllm.ByzerLLM()\n",
    "llm.deploy_model('my_model')\n",
    "```\n",
    "\"\"\""
   ]
  },
  {
   "cell_type": "markdown",
   "metadata": {},
   "source": [
    "## Initialize DocFilter and Test Relevance\n",
    "\n",
    "Now we'll create a DocFilter instance and test the relevance checking."
   ]
  },
  {
   "cell_type": "code",
   "execution_count": null,
   "metadata": {},
   "source": [
    "from autocoder.common import AutoCoderArgs\n",
    "\n",
    "# Initialize DocFilter\n",
    "args = AutoCoderArgs()\n",
    "doc_filter = DocFilter(llm, args)\n",
    "\n",
    "# Test relevance checking\n",
    "relevance = doc_filter._check_relevance_with_conversation(conversations, [document])\n",
    "print(f\"Relevance Result:\\n{relevance}\")"
   ]
  }
 ],
 "metadata": {
  "kernelspec": {
   "display_name": "Python 3",
   "language": "python",
   "name": "python3"
  },
  "language_info": {
   "codemirror_mode": {
    "name": "ipython",
    "version": 3
   },
   "file_extension": ".py",
   "mimetype": "text/x-python",
   "name": "python",
   "nbconvert_exporter": "python",
   "pygments_lexer": "ipython3",
   "version": "3.8.0"
  }
 },
 "nbformat": 4,
 "nbformat_minor": 4
}