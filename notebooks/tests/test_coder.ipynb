{
 "cells": [
  {
   "cell_type": "code",
   "execution_count": null,
   "metadata": {},
   "outputs": [],
   "source": [
    "import os\n",
    "import sys\n",
    "sys.path.append(\"../../\")\n",
    "\n",
    "from src.autocoder.agent.coder import Coder, byzerllm\n",
    "\n",
    "# 初始化 LLM\n",
    "llm = byzerllm.ByzerLLM()\n",
    "llm.setup_template(model=\"deepseek_chat\",template=\"auto\")\n",
    "llm.setup_default_model_name(\"deepseek_chat\")\n",
    "\n",
    "# 创建 Coder 实例\n",
    "coder = Coder(llm)\n",
    "\n",
    "# 定义测试项目路径\n",
    "test_project_path = os.path.join(os.getcwd(), \"test_react_project\")\n",
    "\n",
    "# 确保测试目录存在\n",
    "os.makedirs(test_project_path, exist_ok=True)\n",
    "os.chdir(test_project_path)\n",
    "\n",
    "# 定义测试任务\n",
    "test_task = \"\"\"\n",
    "创建一个使用 React + TypeScript + Tailwind CSS 的项目，要求：\n",
    "1. 使用 create-react-app 创建一个 TypeScript 项目\n",
    "2. 添加和配置 Tailwind CSS\n",
    "3. 创建一个简单的计数器组件，包含增加和减少按钮\n",
    "\"\"\"\n",
    "\n",
    "# 运行测试任务\n",
    "await coder.run(test_task)"
   ]
  }
 ],
 "metadata": {
  "kernelspec": {
   "display_name": "Python 3",
   "language": "python",
   "name": "python3"
  },
  "language_info": {
   "codemirror_mode": {
    "name": "ipython",
    "version": 3
   },
   "file_extension": ".py",
   "mimetype": "text/x-python",
   "name": "python",
   "nbconvert_exporter": "python",
   "pygments_lexer": "ipython3",
   "version": "3.8.0"
  }
 },
 "nbformat": 4,
 "nbformat_minor": 4
}