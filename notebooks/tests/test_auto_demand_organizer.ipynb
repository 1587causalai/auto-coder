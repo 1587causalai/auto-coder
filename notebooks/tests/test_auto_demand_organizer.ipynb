{
 "cells": [
  {
   "cell_type": "markdown",
   "metadata": {},
   "source": [
    "# Auto Demand Organizer Test\n",
    "\n",
    "This notebook tests the `AutoDemandOrganizer` class from `auto_demand_organizer.py`"
   ]
  },
  {
   "cell_type": "code",
   "execution_count": null,
   "metadata": {},
   "outputs": [],
   "source": [
    "# Import required modules\n",
    "import os\n",
    "import byzerllm\n",
    "from src.autocoder.agent.auto_demand_organizer import AutoDemandOrganizer"
   ]
  },
  {
   "cell_type": "code",
   "execution_count": null,
   "metadata": {},
   "outputs": [],
   "source": [
    "# Initialize LLM\n",
    "llm = byzerllm.ByzerLLM.from_default_model(model=\"deepseek_chat\")"
   ]
  },
  {
   "cell_type": "code",
   "execution_count": null,
   "metadata": {},
   "outputs": [],
   "source": [
    "# Set up test project directory\n",
    "project_dir = os.path.join(os.getcwd(), \"test_project\")\n",
    "os.makedirs(os.path.join(project_dir, \"actions\"), exist_ok=True)"
   ]
  },
  {
   "cell_type": "code",
   "execution_count": null,
   "metadata": {},
   "outputs": [],
   "source": [
    "# Create test YAML files\n",
    "test_data = [\n",
    "    {\n",
    "        \"file\": \"001_add_login.yml\",\n",
    "        \"content\": \"\"\"\n",
    "query: Add user login functionality\n",
    "urls:\n",
    "  - src/auth/login.py\n",
    "  - src/views/login.html\n",
    "\"\"\"\n",
    "    },\n",
    "    {\n",
    "        \"file\": \"002_update_login_ui.yml\",\n",
    "        \"content\": \"\"\"\n",
    "query: Update login page UI\n",
    "urls:\n",
    "  - src/views/login.html\n",
    "\"\"\"\n",
    "    }\n",
    "]\n",
    "\n",
    "for data in test_data:\n",
    "    with open(os.path.join(project_dir, \"actions\", data[\"file\"]), \"w\") as f:\n",
    "        f.write(data[\"content\"])"
   ]
  },
  {
   "cell_type": "code",
   "execution_count": null,
   "metadata": {},
   "outputs": [],
   "source": [
    "# Initialize AutoDemandOrganizer\n",
    "organizer = AutoDemandOrganizer(llm=llm, project_dir=project_dir)"
   ]
  },
  {
   "cell_type": "code",
   "execution_count": null,
   "metadata": {},
   "outputs": [],
   "source": [
    "# Test organize method\n",
    "organized_demands = organizer.organize()\n",
    "\n",
    "if organized_demands:\n",
    "    print(\"Organized Demands:\")\n",
    "    for demand in organized_demands.demands:\n",
    "        print(f\"\\nType: {demand.type}\")\n",
    "        print(f\"Description: {demand.description}\")\n",
    "        if demand.reason:\n",
    "            print(f\"Reason: {demand.reason}\")\n",
    "        if demand.related_files:\n",
    "            print(f\"Related Files: {', '.join(demand.related_files)}\")\n",
    "else:\n",
    "    print(\"Failed to organize demands\")"
   ]
  },
  {
   "cell_type": "code",
   "execution_count": null,
   "metadata": {},
   "outputs": [],
   "source": [
    "# Clean up test files\n",
    "import shutil\n",
    "shutil.rmtree(project_dir)"
   ]
  }
 ],
 "metadata": {
  "kernelspec": {
   "display_name": "Python 3",
   "language": "python",
   "name": "python3"
  },
  "language_info": {
   "codemirror_mode": {
    "name": "ipython",
    "version": 3
   },
   "file_extension": ".py",
   "mimetype": "text/x-python",
   "name": "python",
   "nbconvert_exporter": "python",
   "pygments_lexer": "ipython3",
   "version": "3.9.0"
  }
 },
 "nbformat": 4,
 "nbformat_minor": 2
}