{
 "cells": [
  {
   "cell_type": "markdown",
   "metadata": {},
   "source": [
    "# Test Markitdown Library\n",
    "\n",
    "This notebook demonstrates the usage of markitdown library for testing purposes."
   ]
  },
  {
   "cell_type": "code",
   "execution_count": null,
   "metadata": {},
   "outputs": [],
   "source": [
    "import markitdown\n",
    "\n",
    "# Test basic markdown conversion\n",
    "sample_text = \"# Heading\\n\\nThis is a paragraph with **bold** and *italic* text.\"\n",
    "print(\"Original text:\")\n",
    "print(sample_text)\n",
    "print(\"\\nConverted HTML:\")\n",
    "html = markitdown.convert(sample_text)\n",
    "print(html)"
   ]
  },
  {
   "cell_type": "code",
   "execution_count": null,
   "metadata": {},
   "outputs": [],
   "source": [
    "# Test code block handling\n",
    "code_sample = \"\"\"```python\n",
    "def hello_world():\n",
    "    print('Hello, World!')\n",
    "```\"\"\"\n",
    "\n",
    "print(\"Code block conversion:\")\n",
    "code_html = markitdown.convert(code_sample)\n",
    "print(code_html)"
   ]
  },
  {
   "cell_type": "code",
   "execution_count": null,
   "metadata": {},
   "outputs": [],
   "source": [
    "# Test list handling\n",
    "list_sample = \"\"\"\n",
    "- Item 1\n",
    "- Item 2\n",
    "  - Nested item 2.1\n",
    "  - Nested item 2.2\n",
    "- Item 3\n",
    "\"\"\"\n",
    "\n",
    "print(\"List conversion:\")\n",
    "list_html = markitdown.convert(list_sample)\n",
    "print(list_html)"
   ]
  }
 ],
 "metadata": {
  "kernelspec": {
   "display_name": "Python 3",
   "language": "python",
   "name": "python3"
  },
  "language_info": {
   "codemirror_mode": {
    "name": "ipython",
    "version": 3
   },
   "file_extension": ".py",
   "mimetype": "text/x-python",
   "name": "python",
   "nbconvert_exporter": "python",
   "pygments_lexer": "ipython3",
   "version": "3.8.0"
  }
 },
 "nbformat": 4,
 "nbformat_minor": 4
}