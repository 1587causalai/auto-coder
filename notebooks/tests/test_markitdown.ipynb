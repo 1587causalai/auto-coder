{
 "cells": [
  {
   "cell_type": "markdown",
   "metadata": {},
   "source": [
    "# Test Markitdown Library\n",
    "\n",
    "This notebook demonstrates the usage of markitdown library for testing purposes."
   ]
  },
  {
   "cell_type": "code",
   "execution_count": null,
   "metadata": {},
   "outputs": [],
   "source": [
    "from markitdown import MarkItDown\n",
    "\n",
    "# Initialize MarkItDown converter\n",
    "md_converter = MarkItDown()\n",
    "\n",
    "# PDF file path\n",
    "pdf_file = \"/Users/allwefantasy/Downloads/kyligence-docs/Kyligence_Enterprise_User_Manual-zh.pdf\"\n",
    "\n",
    "# Convert PDF to markdown\n",
    "result = md_converter.convert(pdf_file)\n",
    "\n",
    "# Save markdown content to file\n",
    "output_file = \"Kyligence_Enterprise_User_Manual-zh.md\"\n",
    "with open(output_file, 'w', encoding='utf-8') as f:\n",
    "    f.write(result.text_content)\n",
    "\n",
    "print(f\"PDF has been converted to markdown and saved as {output_file}\")"
   ]
  }
 ],
 "metadata": {
  "kernelspec": {
   "display_name": "Python 3",
   "language": "python",
   "name": "python3"
  },
  "language_info": {
   "codemirror_mode": {
    "name": "ipython",
    "version": 3
   },
   "file_extension": ".py",
   "mimetype": "text/x-python",
   "name": "python",
   "nbconvert_exporter": "python",
   "pygments_lexer": "ipython3",
   "version": "3.10.11"
  }
 },
 "nbformat": 4,
 "nbformat_minor": 4
}
