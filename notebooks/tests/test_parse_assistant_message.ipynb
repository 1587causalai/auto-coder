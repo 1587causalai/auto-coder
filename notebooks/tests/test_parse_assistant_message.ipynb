{
 "cells": [
  {
   "cell_type": "markdown",
   "metadata": {},
   "source": [
    "# Testing parse_assistant_message Function\n",
    "\n",
    "This notebook demonstrates the functionality of the `parse_assistant_message` function from the `coder.py` module."
   ]
  },
  {
   "cell_type": "code",
   "execution_count": null,
   "metadata": {},
   "source": [
    "import sys\n",
    "sys.path.append('../../src')\n",
    "\n",
    "from autocoder.agent.coder import Coder\n",
    "\n",
    "# Create a mock instance just to access the parse_assistant_message function\n",
    "mock_coder = Coder(None)\n",
    "parse_assistant_message = mock_coder.parse_assistant_message"
   ]
  },
  {
   "cell_type": "markdown",
   "metadata": {},
   "source": [
    "## Test Case 1: Basic Text Content"
   ]
  },
  {
   "cell_type": "code",
   "execution_count": null,
   "metadata": {},
   "source": [
    "message = \"Hello, this is a simple text message\"\n",
    "result = parse_assistant_message(message)\n",
    "print(\"Test Case 1 Result:\")\n",
    "print(result)"
   ]
  },
  {
   "cell_type": "markdown",
   "metadata": {},
   "source": [
    "## Test Case 2: Single Tool Use (execute_command)"
   ]
  },
  {
   "cell_type": "code",
   "execution_count": null,
   "metadata": {},
   "source": [
    "message = \"\"\"\n",
    "I'll execute the ls command:\n",
    "<execute_command>\n",
    "<command>ls -l</command>\n",
    "</execute_command>\n",
    "\"\"\"\n",
    "result = parse_assistant_message(message)\n",
    "print(\"Test Case 2 Result:\")\n",
    "print(result)"
   ]
  },
  {
   "cell_type": "markdown",
   "metadata": {},
   "source": [
    "## Test Case 3: Multiple Tools with Text In Between"
   ]
  },
  {
   "cell_type": "code",
   "execution_count": null,
   "metadata": {},
   "source": [
    "message = \"\"\"\n",
    "First, let's read a file:\n",
    "<read_file>\n",
    "<path>test.txt</path>\n",
    "</read_file>\n",
    "\n",
    "Now, let's write to another file:\n",
    "\n",
    "<write_to_file>\n",
    "<path>output.txt</path>\n",
    "<content>\n",
    "Hello World!\n",
    "This is a test.\n",
    "</content>\n",
    "</write_to_file>\n",
    "\"\"\"\n",
    "result = parse_assistant_message(message)\n",
    "print(\"Test Case 3 Result:\")\n",
    "print(result)"
   ]
  },
  {
   "cell_type": "markdown",
   "metadata": {},
   "source": [
    "## Test Case 4: Tool With Multiple Parameters"
   ]
  },
  {
   "cell_type": "code",
   "execution_count": null,
   "metadata": {},
   "source": [
    "message = \"\"\"\n",
    "<search_files>\n",
    "<path>src</path>\n",
    "<regex>def\\s+\\w+</regex>\n",
    "<file_pattern>*.py</file_pattern>\n",
    "</search_files>\n",
    "\"\"\"\n",
    "result = parse_assistant_message(message)\n",
    "print(\"Test Case 4 Result:\")\n",
    "print(result)"
   ]
  },
  {
   "cell_type": "markdown",
   "metadata": {},
   "source": [
    "## Test Case 5: Attempt Completion Tool"
   ]
  },
  {
   "cell_type": "code",
   "execution_count": null,
   "metadata": {},
   "source": [
    "message = \"\"\"\n",
    "<attempt_completion>\n",
    "<result>\n",
    "Task completed successfully! Here are the results:\n",
    "1. Files were processed\n",
    "2. Data was analyzed\n",
    "</result>\n",
    "<command>cat output.txt</command>\n",
    "</attempt_completion>\n",
    "\"\"\"\n",
    "result = parse_assistant_message(message)\n",
    "print(\"Test Case 5 Result:\")\n",
    "print(result)"
   ]
  },
  {
   "cell_type": "markdown",
   "metadata": {},
   "source": [
    "## Test Case 6: Partial Tool Use (Simulating Streaming)"
   ]
  },
  {
   "cell_type": "code",
   "execution_count": null,
   "metadata": {},
   "source": [
    "message = \"\"\"\n",
    "<execute_command>\n",
    "<command>ls\n",
    "\"\"\"\n",
    "result = parse_assistant_message(message)\n",
    "print(\"Test Case 6 Result (Partial Tool Use):\")\n",
    "print(result)"
   ]
  }
 ],
 "metadata": {
  "kernelspec": {
   "display_name": "Python 3",
   "language": "python",
   "name": "python3"
  },
  "language_info": {
   "codemirror_mode": {
    "name": "ipython",
    "version": 3
   },
   "file_extension": ".py",
   "mimetype": "text/x-python",
   "name": "python",
   "nbconvert_exporter": "python",
   "pygments_lexer": "ipython3",
   "version": "3.8.0"
  }
 },
 "nbformat": 4,
 "nbformat_minor": 4
}