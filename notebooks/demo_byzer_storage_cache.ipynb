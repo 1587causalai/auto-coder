{
 "cells": [
  {
   "cell_type": "markdown",
   "metadata": {},
   "source": [
    "# 演示 ByzerStorageCache 的使用\n",
    "\n",
    "本演示展示了如何使用 ByzerStorageCache 进行文档的存储和检索。"
   ]
  },
  {
   "cell_type": "code",
   "execution_count": null,
   "metadata": {},
   "outputs": [],
   "source": [
    "import pathspec\n",
    "import os\n",
    "from autocoder.rag.cache.byzer_storage_cache import ByzerStorageCache\n",
    "from autocoder.common import SourceCode\n",
    "from loguru import logger"
   ]
  },
  {
   "cell_type": "markdown",
   "metadata": {},
   "source": [
    "## 1. 初始化 ByzerStorageCache\n",
    "\n",
    "首先我们需要创建一个 ByzerStorageCache 实例。"
   ]
  },
  {
   "cell_type": "code",
   "execution_count": null,
   "metadata": {},
   "outputs": [],
   "source": [
    "# 设置示例路径和过滤规则\n",
    "path = \"/path/to/your/docs\"\n",
    "ignore_spec = None  # 可以使用 pathspec 创建忽略规则\n",
    "required_exts = [\".md\", \".txt\"]  # 只处理这些扩展名的文件\n",
    "\n",
    "# 创建 ByzerStorageCache 实例\n",
    "cache = ByzerStorageCache(path, ignore_spec, required_exts)"
   ]
  },
  {
   "cell_type": "markdown",
   "metadata": {},
   "source": [
    "## 2. 获取缓存内容"
   ]
  },
  {
   "cell_type": "code",
   "execution_count": null,
   "metadata": {},
   "outputs": [],
   "source": [
    "# 获取所有缓存的文档\n",
    "cache_content = cache.get_cache()\n",
    "\n",
    "# 打印缓存内容\n",
    "for file_path, data in cache_content.items():\n",
    "    print(f\"\\nFile: {file_path}\")\n",
    "    for doc in data['content']:\n",
    "        print(f\"Module name: {doc.module_name}\")\n",
    "        print(f\"Content preview: {doc.source_code[:100]}...\")"
   ]
  },
  {
   "cell_type": "markdown",
   "metadata": {},
   "source": [
    "## 3. 搜索缓存内容"
   ]
  },
  {
   "cell_type": "code",
   "execution_count": null,
   "metadata": {},
   "outputs": [],
   "source": [
    "# 设置搜索选项\n",
    "search_options = {\n",
    "    \"query\": \"特定关键词\",\n",
    "    \"enable_vector_search\": True,\n",
    "    \"enable_text_search\": True\n",
    "}\n",
    "\n",
    "# 执行搜索\n",
    "search_results = list(cache.search_cache(search_options))\n",
    "\n",
    "# 打印搜索结果\n",
    "for doc in search_results:\n",
    "    print(f\"\\nFound in: {doc.module_name}\")\n",
    "    print(f\"Content preview: {doc.source_code[:100]}...\")"
   ]
  },
  {
   "cell_type": "markdown",
   "metadata": {},
   "source": [
    "## 说明\n",
    "\n",
    "1. ByzerStorageCache 会自动将文档分块并存储在 Byzer Storage 中\n",
    "2. 支持向量搜索和全文检索\n",
    "3. 文档会被自动向量化以支持语义搜索\n",
    "4. 缓存会在第一次访问时自动构建"
   ]
  }
 ],
 "metadata": {
  "kernelspec": {
   "display_name": "Python 3",
   "language": "python",
   "name": "python3"
  },
  "language_info": {
   "codemirror_mode": {
    "name": "ipython",
    "version": 3
   },
   "file_extension": ".py",
   "mimetype": "text/x-python",
   "name": "python",
   "nbconvert_exporter": "python",
   "pygments_lexer": "ipython3",
   "version": "3.8.0"
  }
 },
 "nbformat": 4,
 "nbformat_minor": 4
}