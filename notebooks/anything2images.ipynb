{
 "cells": [
  {
   "cell_type": "code",
   "execution_count": 1,
   "metadata": {},
   "outputs": [
    {
     "name": "stderr",
     "output_type": "stream",
     "text": [
      "\u001b[32m2024-05-23 18:14:07.429\u001b[0m | \u001b[1mINFO    \u001b[0m | \u001b[36mbyzerllm.utils.connect_ray\u001b[0m:\u001b[36mconnect_cluster\u001b[0m:\u001b[36m37\u001b[0m - \u001b[1mJDK 21 will be used (/Users/allwefantasy/.auto-coder/jdk-21.0.2.jdk/Contents/Home)...\u001b[0m\n",
      "2024-05-23 18:14:07,472\tINFO worker.py:1564 -- Connecting to existing Ray cluster at address: 127.0.0.1:6379...\n",
      "2024-05-23 18:14:07,488\tINFO worker.py:1740 -- Connected to Ray cluster. View the dashboard at \u001b[1m\u001b[32m127.0.0.1:8265 \u001b[39m\u001b[22m\n"
     ]
    },
    {
     "data": {
      "application/vnd.jupyter.widget-view+json": {
       "model_id": "42301bf6de014702b20a530ddead4e8d",
       "version_major": 2,
       "version_minor": 0
      },
      "text/plain": [
       "  0%|          | 0/1 [00:00<?, ?it/s]"
      ]
     },
     "metadata": {},
     "output_type": "display_data"
    },
    {
     "name": "stderr",
     "output_type": "stream",
     "text": [
      "\u001b[32m2024-05-23 18:14:08.139\u001b[0m | \u001b[1mINFO    \u001b[0m | \u001b[36mautocoder.common.anything2images\u001b[0m:\u001b[36mconvert_docx\u001b[0m:\u001b[36m298\u001b[0m - \u001b[1mdocx2pdf failed. Trying to convert using pypandoc. Downloading pandoc...\u001b[0m\n",
      "x .\n",
      "x ./usr\n",
      "x ./usr/local\n",
      "x ./usr/local/bin\n",
      "x ./usr/local/bin/pandoc\n",
      "x ./usr/local/bin/._pandoc\n",
      "x ./usr/local/bin/pandoc-lua\n",
      "x ./usr/local/bin/pandoc-server\n",
      "x ./usr/local/._bin\n",
      "x ./usr/local/share\n",
      "x ./usr/local/share/man\n",
      "x ./usr/local/share/man/man1\n",
      "x ./usr/local/share/man/man1/pandoc-lua.1\n",
      "x ./usr/local/share/man/man1/._pandoc-lua.1\n",
      "x ./usr/local/share/man/man1/pandoc-server.1\n",
      "x ./usr/local/share/man/man1/._pandoc-server.1\n",
      "x ./usr/local/share/man/man1/pandoc.1\n",
      "x ./usr/local/share/man/man1/._pandoc.1\n",
      "x ./usr/local/share/man/._man1\n",
      "x ./usr/local/share/._man\n",
      "x ./usr/local/._share\n",
      "x ./usr/._local\n",
      "x ./._usr\n",
      "\u001b[32m2024-05-23 18:14:17.739\u001b[0m | \u001b[1mINFO    \u001b[0m | \u001b[36mautocoder.common.anything2images\u001b[0m:\u001b[36mconvert_docx\u001b[0m:\u001b[36m301\u001b[0m - \u001b[1mConverted /Users/allwefantasy/Downloads/训练测试WORD-脱敏版/测试报告：L银行小额消费分析.docx to /tmp/jack/测试报告：L银行小额消费分析.docx.pdf using pypandoc\u001b[0m\n",
      "\u001b[32m2024-05-23 18:14:21.323\u001b[0m | \u001b[1mINFO    \u001b[0m | \u001b[36mautocoder.common.anything2images\u001b[0m:\u001b[36mto_html\u001b[0m:\u001b[36m119\u001b[0m - \u001b[1mCollected 0:/tmp/jack/测试报告：L银行小额消费分析.docx.pdf_page1.png\u001b[0m\n",
      "\u001b[32m2024-05-23 18:14:21.327\u001b[0m | \u001b[1mINFO    \u001b[0m | \u001b[36mautocoder.common.anything2images\u001b[0m:\u001b[36mto_html\u001b[0m:\u001b[36m119\u001b[0m - \u001b[1mCollected 1:/tmp/jack/测试报告：L银行小额消费分析.docx.pdf_page2.png\u001b[0m\n",
      "\u001b[32m2024-05-23 18:14:21.328\u001b[0m | \u001b[1mINFO    \u001b[0m | \u001b[36mautocoder.common.anything2images\u001b[0m:\u001b[36mto_html\u001b[0m:\u001b[36m121\u001b[0m - \u001b[1mAll images are collected. Now start to generate html.\u001b[0m\n",
      "\u001b[32m2024-05-23 18:15:28.375\u001b[0m | \u001b[1mINFO    \u001b[0m | \u001b[36mautocoder.common.anything2images\u001b[0m:\u001b[36mto_html\u001b[0m:\u001b[36m175\u001b[0m - \u001b[1mThe output is not finished yet. Continue to get more output. 19th time.\u001b[0m\n",
      "\u001b[32m2024-05-23 18:15:56.020\u001b[0m | \u001b[1mINFO    \u001b[0m | \u001b[36mautocoder.common.anything2images\u001b[0m:\u001b[36mto_html\u001b[0m:\u001b[36m175\u001b[0m - \u001b[1mThe output is not finished yet. Continue to get more output. 18th time.\u001b[0m\n",
      "\u001b[32m2024-05-23 18:15:56.027\u001b[0m | \u001b[1mINFO    \u001b[0m | \u001b[36mautocoder.common.anything2images\u001b[0m:\u001b[36mto_html\u001b[0m:\u001b[36m192\u001b[0m - \u001b[1mGet the final output: <html>\n",
      "<head>\n",
      "    <meta charset=\"UTF-8\">\n",
      "    <title>数据表</title>\n",
      "</head>\n",
      "<body>\n",
      "    <table border=\"1\"...</td>\n",
      "                <td>7.54%</td>\n",
      "            </tr>\n",
      "        </tbody>\n",
      "    </table>\n",
      "</body>\n",
      "</html>\u001b[0m\n"
     ]
    }
   ],
   "source": [
    "from autocoder.common.anything2images import Anything2Images\n",
    "from autocoder.common import AutoCoderArgs\n",
    "import byzerllm\n",
    "\n",
    "byzerllm.connect_cluster()\n",
    "llm = byzerllm.ByzerLLM()\n",
    "llm.setup_default_model_name(\"deepseek_chat\")\n",
    "llm.setup_template(\"deepseek_chat\",\"auto\")\n",
    "\n",
    "model = \"qianwen_vl_max_chat\"\n",
    "model = \"gpt4o_chat\"\n",
    "vl_model = byzerllm.ByzerLLM()\n",
    "vl_model.setup_default_model_name(model)\n",
    "vl_model.setup_template(model,\"auto\")\n",
    "\n",
    "llm.setup_sub_client(\"vl_model\",vl_model)\n",
    "args = AutoCoderArgs(output=\"/tmp/jack\",single_file=False)\n",
    "v = Anything2Images(llm=llm,args=args)\n",
    "html = v.to_html(\"/Users/allwefantasy/Downloads/训练测试WORD-脱敏版/测试报告：L银行小额消费分析.docx\")\n",
    "\n",
    "with open(\"/tmp/jack.html\", \"w\") as f:\n",
    "    f.write(html)"
   ]
  }
 ],
 "metadata": {
  "kernelspec": {
   "display_name": "byzerllm",
   "language": "python",
   "name": "python3"
  },
  "language_info": {
   "codemirror_mode": {
    "name": "ipython",
    "version": 3
   },
   "file_extension": ".py",
   "mimetype": "text/x-python",
   "name": "python",
   "nbconvert_exporter": "python",
   "pygments_lexer": "ipython3",
   "version": "3.10.11"
  }
 },
 "nbformat": 4,
 "nbformat_minor": 2
}
