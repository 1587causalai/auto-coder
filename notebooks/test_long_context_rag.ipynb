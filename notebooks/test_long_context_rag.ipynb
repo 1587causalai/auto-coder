{
 "cells": [
  {
   "cell_type": "markdown",
   "metadata": {},
   "source": [
    "# LongContextRAG 使用范例\n",
    "\n",
    "本 notebook 展示了如何使用 `LongContextRAG` 类来处理长文本上下文的检索增强生成（RAG）任务。"
   ]
  },
  {
   "cell_type": "code",
   "execution_count": 1,
   "metadata": {},
   "outputs": [
    {
     "name": "stderr",
     "output_type": "stream",
     "text": [
      "\u001b[32m2024-08-21 14:11:56.840\u001b[0m | \u001b[1mINFO    \u001b[0m | \u001b[36mbyzerllm.utils.connect_ray\u001b[0m:\u001b[36mconnect_cluster\u001b[0m:\u001b[36m48\u001b[0m - \u001b[1mJDK 21 will be used (/Users/allwefantasy/.auto-coder/jdk-21.0.2.jdk/Contents/Home)...\u001b[0m\n",
      "2024-08-21 14:11:56,888\tINFO worker.py:1564 -- Connecting to existing Ray cluster at address: 127.0.0.1:6379...\n",
      "2024-08-21 14:11:56,924\tINFO worker.py:1740 -- Connected to Ray cluster. View the dashboard at \u001b[1m\u001b[32m127.0.0.1:8265 \u001b[39m\u001b[22m\n"
     ]
    }
   ],
   "source": [
    "import os\n",
    "import byzerllm\n",
    "from autocoder.common import AutoCoderArgs\n",
    "from autocoder.rag.long_context_rag import LongContextRAG\n",
    "\n",
    "# 初始化 ByzerLLM\n",
    "llm = byzerllm.ByzerLLM.from_default_model(\"deepseek_chat\")\n",
    "\n",
    "# 设置参数\n",
    "args = AutoCoderArgs()\n",
    "\n",
    "# 指定包含文档的目录路径\n",
    "# /Users/allwefantasy/projects/llm_friendly_packages/github.com/allwefantasy/byzer-sql\n",
    "docs_path = \"/Users/allwefantasy/projects/auto-coder/.auto-coder/libs/llm_friendly_packages/github.com\"  # 请替换为实际的文档目录路径\n",
    "\n",
    "# 初始化 LongContextRAG\n",
    "long_context_rag = LongContextRAG(llm, args, docs_path)"
   ]
  },
  {
   "cell_type": "markdown",
   "metadata": {},
   "source": [
    "## 使用 LongContextRAG 进行问答"
   ]
  },
  {
   "cell_type": "code",
   "execution_count": 2,
   "metadata": {},
   "outputs": [
    {
     "name": "stdout",
     "output_type": "stream",
     "text": [
      "问题: 什么是byzerllm?\n",
      "回答:\n",
      "byzerllm 是一个大模型编程框架，它支持私有化模型或SaaS模型的部署，并提供了一系列易用的API来与大模型进行交互。通过 byzerllm，开发者可以轻松地安装、启动模型代理，并在代码中使用装饰器将方法转换为大模型的调用，实现与大模型的交互。此外，byzerllm 还支持超长文本生成、对象输出、自定义字段抽取、流式输出、多模态交互等功能，使得大模型的使用更加灵活和高效。\n",
      "\n",
      "相关文档:\n"
     ]
    }
   ],
   "source": [
    "# 定义一个问题\n",
    "question = \"什么是byzerllm?\"\n",
    "\n",
    "# 使用 LongContextRAG 进行问答\n",
    "response_generator, contexts = long_context_rag.stream_chat_oai(\n",
    "    conversations=[{\"role\": \"user\", \"content\": question}]\n",
    ")\n",
    "\n",
    "# 打印回答\n",
    "print(\"问题:\", question)\n",
    "print(\"回答:\")\n",
    "for chunk in response_generator:\n",
    "    print(chunk, end=\"\")\n",
    "print(\"\\n\")\n",
    "\n",
    "# 打印相关上下文\n",
    "print(\"相关文档:\")\n",
    "for context in contexts:\n",
    "    print(f\"- {context}\")"
   ]
  },
  {
   "cell_type": "markdown",
   "metadata": {},
   "source": [
    "## 多轮对话示例"
   ]
  },
  {
   "cell_type": "code",
   "execution_count": null,
   "metadata": {},
   "outputs": [],
   "source": [
    "# 定义多轮对话\n",
    "conversations = [\n",
    "    {\"role\": \"user\", \"content\": \"什么是深度学习？\"},\n",
    "    {\"role\": \"assistant\", \"content\": \"深度学习是机器学习的一个子领域，它使用多层神经网络来模拟人脑的学习过程。深度学习模型可以自动从大量数据中学习特征，无需人工特征工程。这种方法在图像识别、自然语言处理和语音识别等领域取得了巨大突破。\"},\n",
    "    {\"role\": \"user\", \"content\": \"深度学习和传统机器学习有什么区别？\"}\n",
    "]\n",
    "\n",
    "# 使用 LongContextRAG 进行多轮对话\n",
    "response_generator, contexts = long_context_rag.stream_chat_oai(conversations)\n",
    "\n",
    "# 打印回答\n",
    "print(\"问题: 深度学习和传统机器学习有什么区别？\")\n",
    "print(\"回答:\")\n",
    "for chunk in response_generator:\n",
    "    print(chunk, end=\"\")\n",
    "print(\"\\n\")\n",
    "\n",
    "# 打印相关上下文\n",
    "print(\"相关文档:\")\n",
    "for context in contexts:\n",
    "    print(f\"- {context}\")"
   ]
  },
  {
   "cell_type": "markdown",
   "metadata": {},
   "source": [
    "## 解释 LongContextRAG 的工作原理"
   ]
  },
  {
   "cell_type": "markdown",
   "metadata": {},
   "source": [
    "LongContextRAG 的工作原理如下：\n",
    "\n",
    "1. 文档加载：从指定目录加载所有的 Markdown 文档。\n",
    "\n",
    "2. 相关性检查：对于给定的问题，使用 LLM 并行检查每个文档的相关性。\n",
    "\n",
    "3. 答案生成：使用相关文档作为上下文，生成问题的答案。\n",
    "\n",
    "4. 流式输出：以流式方式返回生成的答案，同时返回相关文档的信息。\n",
    "\n",
    "这种方法允许处理大量文档，同时保持较低的延迟，因为它只在相关文档上进行深入处理。"
   ]
  }
 ],
 "metadata": {
  "kernelspec": {
   "display_name": "Python 3",
   "language": "python",
   "name": "python3"
  },
  "language_info": {
   "codemirror_mode": {
    "name": "ipython",
    "version": 3
   },
   "file_extension": ".py",
   "mimetype": "text/x-python",
   "name": "python",
   "nbconvert_exporter": "python",
   "pygments_lexer": "ipython3",
   "version": "3.10.11"
  }
 },
 "nbformat": 4,
 "nbformat_minor": 4
}
