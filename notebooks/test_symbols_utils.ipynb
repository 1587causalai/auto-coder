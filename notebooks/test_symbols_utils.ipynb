{
 "cells": [
  {
   "cell_type": "code",
   "execution_count": 1,
   "metadata": {},
   "outputs": [
    {
     "name": "stdout",
     "output_type": "stream",
     "text": [
      "None\n"
     ]
    }
   ],
   "source": [
    "from autocoder.index.symbols_utils import (\n",
    "    extract_symbols,\n",
    "    symbols_info_to_str,\n",
    "    SymbolsInfo,\n",
    "    SymbolType,\n",
    ")\n",
    "\n",
    "info = SymbolsInfo(\n",
    "            usage=\"Test usage\",\n",
    "            functions=[\"func1\", \"func2\"],\n",
    "            variables=[\"var1\", \"var2\"],\n",
    "            classes=[\"Class1\", \"Class2\"],\n",
    "            import_statements=[\"import os\", \"from typing import List\"],\n",
    "        )\n",
    "\n",
    "print(getattr(info, \"usage\"))"
   ]
  }
 ],
 "metadata": {
  "kernelspec": {
   "display_name": "byzerllm",
   "language": "python",
   "name": "python3"
  },
  "language_info": {
   "codemirror_mode": {
    "name": "ipython",
    "version": 3
   },
   "file_extension": ".py",
   "mimetype": "text/x-python",
   "name": "python",
   "nbconvert_exporter": "python",
   "pygments_lexer": "ipython3",
   "version": "3.10.11"
  }
 },
 "nbformat": 4,
 "nbformat_minor": 2
}
