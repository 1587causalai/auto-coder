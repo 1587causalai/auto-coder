{
 "cells": [
  {
   "cell_type": "markdown",
   "metadata": {},
   "source": [
    "# Testing extract_relevance_info_from_docs_with_conversation Function\n",
    "\n",
    "This notebook demonstrates how to use and test the `extract_relevance_info_from_docs_with_conversation` function from the ByzerLLM library."
   ]
  },
  {
   "cell_type": "code",
   "execution_count": 1,
   "metadata": {},
   "outputs": [
    {
     "name": "stdout",
     "output_type": "stream",
     "text": [
      "质量系统在药品生产中是一个全面的管理体系，旨在确保药品从研发到销售的全过程符合质量标准和法规要求，保护消费者并提升企业信誉。以下是质量系统的详细介绍：\n",
      "\n",
      "### 1. 质量管理\n",
      "质量管理是确保产品质量符合预期用途、维持质量体系的一系列有组织的活动。它包括制定质量目标、强化全程管理、确保药品的安全性、有效性和质量可控性。企业高管和相关人员各负其责，确保软件和硬件都符合GMP要求。\n",
      "\n",
      "### 2. 质量保证（QA）\n",
      "质量保证系统包括：\n",
      "- **产品年度回顾**：每年对所有生产的药品进行产品质量回顾分析，确认工艺稳定可靠，以及原辅料、成品现行质量标准的适用性。\n",
      "- **审计**：包括GMP自检、对供应商的审计和药政部门的按规定检查的资料及整改报告。\n",
      "- **投诉处理**：包括产品质量投诉、药品不良反应报告和疑似虚假药品的投诉。\n",
      "- **偏差管理**：对不符合指定的要求的情况进行调查、分析和处理。\n",
      "- **变更控制**：管理变化的正式体系，包括生产工艺变更、设备变更、生产区域和配套支持系统变更等。\n",
      "- **产品放行**：确保每批放行药品的生产、检验均符合要求。\n",
      "- **返工/再加工管理**：对不合格产品进行返工或再加工的管理。\n",
      "- **SOP管理**：确保所有操作规程（SOP）得到正确执行。\n",
      "- **人员和培训**：确保从事影响产品质量工作的人员达到必要的能力。\n",
      "\n",
      "### 3. 质量控制（QC）\n",
      "质量控制涉及：\n",
      "- **资源**：包括设施、设备、仪器和人员。\n",
      "- **SOP**：制定各物料产品的取样、检查、检验、稳定性考察和环境监测（必要时）的SOP。\n",
      "- **专人依法取样**：确保取样的正确性和合规性。\n",
      "- **检验方法验证/确认**：确保检验方法的准确性和可靠性。\n",
      "- **记录**：包括取样、检验、检查和偏差调查的记录。\n",
      "- **质量标准**：作为检验检查的依据，并确保有记录。\n",
      "- **留样备检**：确保物料和终产品的留样，以便必要时进行复检。\n",
      "\n",
      "### 4. 质量风险管理\n",
      "质量风险管理涉及：\n",
      "- **风险评估**：采用前瞻性或回顾性的方式评估风险。\n",
      "- **风险控制**：根据风险等级采取相应措施。\n",
      "- **风险沟通**：确保所有相关人员了解风险和控制措施。\n",
      "- **风险审核**：定期审核风险管理的效果。\n",
      "\n",
      "### 5. 文件记录\n",
      "文件记录涉及：\n",
      "- **SOP**：设计、制定、审核、批准、发放与GMP有关的文件。\n",
      "- **文件内容**：确保文件内容与药品生产、注册等相关要求一致。\n",
      "- **追溯性**：确保文件有助于追溯每批产品的历史。\n",
      "\n",
      "### 6. 培训\n",
      "培训涉及：\n",
      "- **培训管理**：指定部门或专人负责培训管理。\n",
      "- **培训方案/计划**：须经生产或质量管理负责人审核/批准。\n",
      "- **培训记录**：保存培训记录，确保培训效果。\n",
      "\n",
      "### 7. 设施设备\n",
      "设施设备涉及：\n",
      "- **设计与布局**：确保厂房、设施、设备的设计、布局和使用目的降低污染风险。\n",
      "- **依据**：依据生产药品的特性、工艺流程和洁净级别要求。\n",
      "\n",
      "### 8. 供应商物料管理\n",
      "供应商物料管理涉及：\n",
      "- **供应商评估**：对所有生产用物料的供应商进行评估。\n",
      "- **质量审计**：会同有关部门对主要物料供应商（尤其是生产商）的质量体系进行现场质量审计。\n",
      "\n",
      "### 9. 产品放行召回\n",
      "产品放行召回涉及：\n",
      "- **产品召回系统**：建立产品召回系统，必要时迅速、有效召回。\n",
      "- **监督销毁**：监督销毁由于质量缘故退货/召回的产品。\n",
      "\n",
      "### 10. GMP软件管理系统\n",
      "GMP软件管理系统包括：\n",
      "- **质量管理系统**：包括公司质量政策、质量管理计划、采样计划、中间工艺控制、质量评价、质量审计、投诉和退货处理。\n",
      "- **生产工艺管理系统**：包括基准配方（DMF）、工艺规程（LMF）、批生产/包装指令/记录（BPRS）、标准工/操作程序（SOPS）。\n",
      "- **物料管理系统**：包括市场预测、生产计划、采样、原材料待检和入库、生产作业计划的编制和下达、领配料、生产和包装、成品待检和入库、开票发货、追溯。\n",
      "- **设备管理系统**：包括确认编号管理系统、施工定单管理系统、予修管理系统、操作工人设备维护检查管理系统、备品备件管理系统、设备资料管理系统。\n",
      "- **验证管理系统**：包括验证管理组织、验证计划、安装确认、运行确认、工艺验证、产品验证、再验证、验证文件。\n",
      "\n",
      "### 11. GMP管理软件包\n",
      "GMP管理软件包包括：\n",
      "- **确认设施和设备安装**：确保符合原计划和GMP的要求。\n",
      "- **测试**：按照实际生产并在确定的设备、产品和工艺操作范围内进行。\n",
      "- **系统评价**：研究几个单元间的相互关系，并根据产品要求确定其共同效果。\n",
      "- **试运转**：证明一个工艺过程的有效性和再现性。\n",
      "- **挑战性试验**：重复多次，使结果在有意义性和稳定性方面达到高度保证。\n",
      "- **再验证**：根据官方法定规定、产品处方、制造工艺和批量改变、工艺设备有重大改变、生产条件有重大改变、质量控制方法有重大改变、中间控制和成品控制说明需要时进行。\n",
      "\n",
      "### 12. GMP对生产卫生的要求\n",
      "GMP对生产卫生的要求包括：\n",
      "- **污染源**：环境、原材料、设备、工艺过程、人员等。\n",
      "- **微生物繁殖条件**：温湿度、水、食物。\n",
      "- **人员健康**：聘用前体检、定期体检、对传染病的注意。\n",
      "- **手的卫生**：确保手的清洁。\n",
      "- **设备清洗**：确保设备的清洁。\n",
      "- **工作服**：确保工作服的清洁和适用性。\n",
      "- **建立卫生SOP**：确保卫生操作的标准化。\n",
      "- **清洁剂的验证和轮换**：确保清洁剂的有效性和安全性。\n",
      "- **生产卫生的监控**：确保生产卫生的持续符合要求。\n",
      "\n",
      "通过上述各个方面的详细管理，质量系统确保药品生产的全过程符合质量标准和法规要求，保护消费者并提升企业信誉。\n"
     ]
    }
   ],
   "source": [
    "from openai import OpenAI\n",
    "import json\n",
    "\n",
    "# 如果使用 HTTPS，请将 URL 改为 https://\n",
    "client = OpenAI(api_key=\"your_api_key_here\", base_url=\"http://127.0.0.1:8000/v1\")\n",
    "\n",
    "# messages = json.loads(open(\"/tmp/rag.json\").read())\n",
    "\n",
    "response = client.chat.completions.create(\n",
    "    messages=\n",
    "        [\n",
    "  {\n",
    "    \"role\": \"system\",\n",
    "    \"content\": \"这是历史聊天总结作为前情提要：质量系统在药品生产中至关重要，涉及质量管理、控制、风险管理、文件记录、培训、设>施设备、供应商物料管理及产品放行召回等多个方面。它确保药品从研发到销售的全过程符合质量标准和法规要求，保护消费者并提升企业信>誉。\"\n",
    "  },\n",
    "  {\n",
    "    \"role\": \"user\",\n",
    "    \"content\": \"给我详细介绍下质量系统\"\n",
    "    }],\n",
    "    model=\"deepseek_chat\",\n",
    ")\n",
    "print(response.choices[0].message.content)"
   ]
  },
  {
   "cell_type": "code",
   "execution_count": 1,
   "metadata": {},
   "outputs": [
    {
     "name": "stdout",
     "output_type": "stream",
     "text": [
      "根据您提供的信息，董事会决议中提到的股利分配提议是向全体股东分配股利2,968,907,902.00元。这个数字表示的是分配的股利总额，而不是股份基数。通常情况下，股份基数是指公司总股本的数量，而分配的股利总额是根据每股分配的金额乘以总股本数量计算得出的。\n",
      "\n",
      "因此，2,968,907,902.00元是董事会提议分配的股利总额，而不是股份基数。股份基数应该是公司总股本的数量，这个数量可能与股利总额不同。如果您需要了解具体的股份基数，请查阅公司的最新股本信息或相关公告。\n"
     ]
    }
   ],
   "source": [
    "from openai import OpenAI\n",
    "import json\n",
    "\n",
    "# 如果使用 HTTPS，请将 URL 改为 https://\n",
    "client = OpenAI(api_key=\"your_api_key_here\", base_url=\"http://127.0.0.1:8000/v1\")\n",
    "\n",
    "# messages = json.loads(open(\"/tmp/rag.json\").read())\n",
    "\n",
    "response = client.chat.completions.create(\n",
    "    messages=\n",
    "        [ \n",
    "  {\n",
    "    \"role\": \"user\",\n",
    "    \"content\": \"董事会审议通过的利润分配预案为：以2,968,907,902股为基数 这个数字准确么？\"\n",
    "    }],\n",
    "    model=\"deepseek_chat\",\n",
    ")\n",
    "print(response.choices[0].message.content)"
   ]
  },
  {
   "cell_type": "code",
   "execution_count": 1,
   "metadata": {},
   "outputs": [
    {
     "name": "stderr",
     "output_type": "stream",
     "text": [
      "\u001b[32m2024-09-04 11:36:40.755\u001b[0m | \u001b[1mINFO    \u001b[0m | \u001b[36mbyzerllm.utils.connect_ray\u001b[0m:\u001b[36mconnect_cluster\u001b[0m:\u001b[36m48\u001b[0m - \u001b[1mJDK 21 will be used (/Users/allwefantasy/.auto-coder/jdk-21.0.2.jdk/Contents/Home)...\u001b[0m\n",
      "2024-09-04 11:36:40,798\tINFO worker.py:1564 -- Connecting to existing Ray cluster at address: 127.0.0.1:6379...\n",
      "2024-09-04 11:36:40,810\tINFO worker.py:1740 -- Connected to Ray cluster. View the dashboard at \u001b[1m\u001b[32m127.0.0.1:8265 \u001b[39m\u001b[22m\n"
     ]
    },
    {
     "ename": "AssertionError",
     "evalue": "",
     "output_type": "error",
     "traceback": [
      "\u001b[0;31m---------------------------------------------------------------------------\u001b[0m",
      "\u001b[0;31mAssertionError\u001b[0m                            Traceback (most recent call last)",
      "Cell \u001b[0;32mIn[1], line 5\u001b[0m\n\u001b[1;32m      2\u001b[0m \u001b[38;5;28;01mimport\u001b[39;00m \u001b[38;5;21;01mray\u001b[39;00m\n\u001b[1;32m      3\u001b[0m dc \u001b[38;5;241m=\u001b[39m byzerllm\u001b[38;5;241m.\u001b[39mByzerLLM\u001b[38;5;241m.\u001b[39mfrom_default_model(\u001b[38;5;124m\"\u001b[39m\u001b[38;5;124mdeepseek_chat\u001b[39m\u001b[38;5;124m\"\u001b[39m)\n\u001b[0;32m----> 5\u001b[0m v \u001b[38;5;241m=\u001b[39m \u001b[43mray\u001b[49m\u001b[38;5;241;43m.\u001b[39;49m\u001b[43mget_actor\u001b[49m\u001b[43m(\u001b[49m\u001b[38;5;124;43m\"\u001b[39;49m\u001b[38;5;124;43mAutoCoderRAGAsyncUpdateQueue\u001b[39;49m\u001b[38;5;124;43m\"\u001b[39;49m\u001b[43m)\u001b[49m\n\u001b[1;32m      6\u001b[0m \u001b[38;5;28mprint\u001b[39m(v)\n\u001b[1;32m      7\u001b[0m \u001b[38;5;66;03m# ray.kill(ray.get_actor(\"AutoCoderRAGAsyncUpdateQueue__Users_allwefantasy_Downloads_output_files_v5\"))\u001b[39;00m\n",
      "File \u001b[0;32m/opt/miniconda3/envs/byzerllm/lib/python3.10/site-packages/ray/_private/auto_init_hook.py:21\u001b[0m, in \u001b[0;36mwrap_auto_init.<locals>.auto_init_wrapper\u001b[0;34m(*args, **kwargs)\u001b[0m\n\u001b[1;32m     18\u001b[0m \u001b[38;5;129m@wraps\u001b[39m(fn)\n\u001b[1;32m     19\u001b[0m \u001b[38;5;28;01mdef\u001b[39;00m \u001b[38;5;21mauto_init_wrapper\u001b[39m(\u001b[38;5;241m*\u001b[39margs, \u001b[38;5;241m*\u001b[39m\u001b[38;5;241m*\u001b[39mkwargs):\n\u001b[1;32m     20\u001b[0m     auto_init_ray()\n\u001b[0;32m---> 21\u001b[0m     \u001b[38;5;28;01mreturn\u001b[39;00m \u001b[43mfn\u001b[49m\u001b[43m(\u001b[49m\u001b[38;5;241;43m*\u001b[39;49m\u001b[43margs\u001b[49m\u001b[43m,\u001b[49m\u001b[43m \u001b[49m\u001b[38;5;241;43m*\u001b[39;49m\u001b[38;5;241;43m*\u001b[39;49m\u001b[43mkwargs\u001b[49m\u001b[43m)\u001b[49m\n",
      "File \u001b[0;32m/opt/miniconda3/envs/byzerllm/lib/python3.10/site-packages/ray/_private/client_mode_hook.py:103\u001b[0m, in \u001b[0;36mclient_mode_hook.<locals>.wrapper\u001b[0;34m(*args, **kwargs)\u001b[0m\n\u001b[1;32m    101\u001b[0m     \u001b[38;5;28;01mif\u001b[39;00m func\u001b[38;5;241m.\u001b[39m\u001b[38;5;18m__name__\u001b[39m \u001b[38;5;241m!=\u001b[39m \u001b[38;5;124m\"\u001b[39m\u001b[38;5;124minit\u001b[39m\u001b[38;5;124m\"\u001b[39m \u001b[38;5;129;01mor\u001b[39;00m is_client_mode_enabled_by_default:\n\u001b[1;32m    102\u001b[0m         \u001b[38;5;28;01mreturn\u001b[39;00m \u001b[38;5;28mgetattr\u001b[39m(ray, func\u001b[38;5;241m.\u001b[39m\u001b[38;5;18m__name__\u001b[39m)(\u001b[38;5;241m*\u001b[39margs, \u001b[38;5;241m*\u001b[39m\u001b[38;5;241m*\u001b[39mkwargs)\n\u001b[0;32m--> 103\u001b[0m \u001b[38;5;28;01mreturn\u001b[39;00m \u001b[43mfunc\u001b[49m\u001b[43m(\u001b[49m\u001b[38;5;241;43m*\u001b[39;49m\u001b[43margs\u001b[49m\u001b[43m,\u001b[49m\u001b[43m \u001b[49m\u001b[38;5;241;43m*\u001b[39;49m\u001b[38;5;241;43m*\u001b[39;49m\u001b[43mkwargs\u001b[49m\u001b[43m)\u001b[49m\n",
      "File \u001b[0;32m/opt/miniconda3/envs/byzerllm/lib/python3.10/site-packages/ray/_private/worker.py:2896\u001b[0m, in \u001b[0;36mget_actor\u001b[0;34m(name, namespace)\u001b[0m\n\u001b[1;32m   2894\u001b[0m worker \u001b[38;5;241m=\u001b[39m global_worker\n\u001b[1;32m   2895\u001b[0m worker\u001b[38;5;241m.\u001b[39mcheck_connected()\n\u001b[0;32m-> 2896\u001b[0m \u001b[38;5;28;01mreturn\u001b[39;00m \u001b[43mworker\u001b[49m\u001b[38;5;241;43m.\u001b[39;49m\u001b[43mcore_worker\u001b[49m\u001b[38;5;241;43m.\u001b[39;49m\u001b[43mget_named_actor_handle\u001b[49m\u001b[43m(\u001b[49m\u001b[43mname\u001b[49m\u001b[43m,\u001b[49m\u001b[43m \u001b[49m\u001b[43mnamespace\u001b[49m\u001b[43m \u001b[49m\u001b[38;5;129;43;01mor\u001b[39;49;00m\u001b[43m \u001b[49m\u001b[38;5;124;43m\"\u001b[39;49m\u001b[38;5;124;43m\"\u001b[39;49m\u001b[43m)\u001b[49m\n",
      "File \u001b[0;32mpython/ray/_raylet.pyx:4409\u001b[0m, in \u001b[0;36mray._raylet.CoreWorker.get_named_actor_handle\u001b[0;34m()\u001b[0m\n",
      "File \u001b[0;32mpython/ray/_raylet.pyx:4349\u001b[0m, in \u001b[0;36mray._raylet.CoreWorker.make_actor_handle\u001b[0;34m()\u001b[0m\n",
      "File \u001b[0;32m/opt/miniconda3/envs/byzerllm/lib/python3.10/site-packages/ray/_private/function_manager.py:539\u001b[0m, in \u001b[0;36mFunctionActorManager.load_actor_class\u001b[0;34m(self, job_id, actor_creation_function_descriptor)\u001b[0m\n\u001b[1;32m    533\u001b[0m         actor_class \u001b[38;5;241m=\u001b[39m \u001b[38;5;28mself\u001b[39m\u001b[38;5;241m.\u001b[39m_load_actor_class_from_gcs(\n\u001b[1;32m    534\u001b[0m             job_id, actor_creation_function_descriptor\n\u001b[1;32m    535\u001b[0m         )\n\u001b[1;32m    537\u001b[0m \u001b[38;5;28;01melse\u001b[39;00m:\n\u001b[1;32m    538\u001b[0m     \u001b[38;5;66;03m# Load actor class from GCS.\u001b[39;00m\n\u001b[0;32m--> 539\u001b[0m     actor_class \u001b[38;5;241m=\u001b[39m \u001b[38;5;28;43mself\u001b[39;49m\u001b[38;5;241;43m.\u001b[39;49m\u001b[43m_load_actor_class_from_gcs\u001b[49m\u001b[43m(\u001b[49m\n\u001b[1;32m    540\u001b[0m \u001b[43m        \u001b[49m\u001b[43mjob_id\u001b[49m\u001b[43m,\u001b[49m\u001b[43m \u001b[49m\u001b[43mactor_creation_function_descriptor\u001b[49m\n\u001b[1;32m    541\u001b[0m \u001b[43m    \u001b[49m\u001b[43m)\u001b[49m\n\u001b[1;32m    542\u001b[0m \u001b[38;5;66;03m# Save the loaded actor class in cache.\u001b[39;00m\n\u001b[1;32m    543\u001b[0m \u001b[38;5;28mself\u001b[39m\u001b[38;5;241m.\u001b[39m_loaded_actor_classes[function_id] \u001b[38;5;241m=\u001b[39m actor_class\n",
      "File \u001b[0;32m/opt/miniconda3/envs/byzerllm/lib/python3.10/site-packages/ray/_private/function_manager.py:634\u001b[0m, in \u001b[0;36mFunctionActorManager._load_actor_class_from_gcs\u001b[0;34m(self, job_id, actor_creation_function_descriptor)\u001b[0m\n\u001b[1;32m    629\u001b[0m     vals \u001b[38;5;241m=\u001b[39m pickle\u001b[38;5;241m.\u001b[39mloads(vals)\n\u001b[1;32m    630\u001b[0m (job_id_str, class_name, module, pickled_class, actor_method_names) \u001b[38;5;241m=\u001b[39m (\n\u001b[1;32m    631\u001b[0m     vals\u001b[38;5;241m.\u001b[39mget(field) \u001b[38;5;28;01mfor\u001b[39;00m field \u001b[38;5;129;01min\u001b[39;00m fields\n\u001b[1;32m    632\u001b[0m )\n\u001b[0;32m--> 634\u001b[0m class_name \u001b[38;5;241m=\u001b[39m \u001b[43mensure_str\u001b[49m\u001b[43m(\u001b[49m\u001b[43mclass_name\u001b[49m\u001b[43m)\u001b[49m\n\u001b[1;32m    635\u001b[0m module_name \u001b[38;5;241m=\u001b[39m ensure_str(module)\n\u001b[1;32m    636\u001b[0m job_id \u001b[38;5;241m=\u001b[39m ray\u001b[38;5;241m.\u001b[39mJobID(job_id_str)\n",
      "File \u001b[0;32m/opt/miniconda3/envs/byzerllm/lib/python3.10/site-packages/ray/_private/utils.py:243\u001b[0m, in \u001b[0;36mensure_str\u001b[0;34m(s, encoding, errors)\u001b[0m\n\u001b[1;32m    241\u001b[0m     \u001b[38;5;28;01mreturn\u001b[39;00m s\n\u001b[1;32m    242\u001b[0m \u001b[38;5;28;01melse\u001b[39;00m:\n\u001b[0;32m--> 243\u001b[0m     \u001b[38;5;28;01massert\u001b[39;00m \u001b[38;5;28misinstance\u001b[39m(s, \u001b[38;5;28mbytes\u001b[39m)\n\u001b[1;32m    244\u001b[0m     \u001b[38;5;28;01mreturn\u001b[39;00m s\u001b[38;5;241m.\u001b[39mdecode(encoding, errors)\n",
      "\u001b[0;31mAssertionError\u001b[0m: "
     ]
    }
   ],
   "source": [
    "import byzerllm \n",
    "import ray\n",
    "dc = byzerllm.ByzerLLM.from_default_model(\"deepseek_chat\")\n",
    "\n",
    "v = ray.get_actor(\"AutoCoderRAGAsyncUpdateQueue\")\n",
    "print(v)\n",
    "# ray.kill(ray.get_actor(\"AutoCoderRAGAsyncUpdateQueue__Users_allwefantasy_Downloads_output_files_v5\"))"
   ]
  },
  {
   "cell_type": "markdown",
   "metadata": {},
   "source": [
    "## Prepare Test Data\n",
    "\n",
    "Let's create some sample documents and a conversation history to test our function."
   ]
  },
  {
   "cell_type": "code",
   "execution_count": 2,
   "metadata": {},
   "outputs": [],
   "source": [
    "# Sample documents\n",
    "documents = [\n",
    "    \"The capital of France is Paris. It is known for its beautiful architecture and cuisine.\",\n",
    "    \"Python is a popular programming language used in data science and web development.\",\n",
    "    \"The Great Wall of China is one of the most famous landmarks in the world.\"\n",
    "]\n",
    "\n",
    "# Sample conversation history\n",
    "conversations = [\n",
    "    {\"role\": \"user\", \"content\": \"Tell me about France.\"},\n",
    "    {\"role\": \"assistant\", \"content\": \"France is a country in Western Europe known for its rich history and culture.\"},\n",
    "    {\"role\": \"user\", \"content\": \"What's the capital of France?\"}\n",
    "]"
   ]
  },
  {
   "cell_type": "markdown",
   "metadata": {},
   "source": [
    "## Define and Test the Function"
   ]
  },
  {
   "cell_type": "code",
   "execution_count": 5,
   "metadata": {},
   "outputs": [
    {
     "name": "stdout",
     "output_type": "stream",
     "text": [
      "The capital of France is Paris.\n"
     ]
    }
   ],
   "source": [
    "@byzerllm.prompt()\n",
    "def extract_relevance_info_from_docs_with_conversation(conversations, documents) -> str:\n",
    "    \"\"\"\n",
    "    使用以下文档和对话历史来提取相关信息。\n",
    "\n",
    "    文档：\n",
    "    {% for doc in documents %}\n",
    "    {{ doc }}\n",
    "    {% endfor %}\n",
    "\n",
    "    对话历史：\n",
    "    {% for msg in conversations %}\n",
    "    <{{ msg.role }}>: {{ msg.content }}\n",
    "    {% endfor %}\n",
    "\n",
    "    请根据提供的文档内容、用户对话历史以及最后一个问题，提取并总结文档中与问题相关的重要信息。\n",
    "    如果文档中没有相关信息，请回复\"该文档中没有与问题相关的信息\"。\n",
    "    提取的信息尽量保持和原文中的一样，并且只输出这些信息。\n",
    "    \"\"\"\n",
    "\n",
    "# Test the function\n",
    "result = extract_relevance_info_from_docs_with_conversation.with_llm(llm).run(conversations=conversations, documents=documents)\n",
    "print(result)"
   ]
  },
  {
   "cell_type": "markdown",
   "metadata": {},
   "source": [
    "## Analyze the Results\n",
    "\n",
    "Let's analyze the output of our function to see if it correctly extracted the relevant information from the documents based on the conversation history."
   ]
  },
  {
   "cell_type": "code",
   "execution_count": null,
   "metadata": {},
   "outputs": [],
   "source": [
    "print(\"Extracted relevant information:\")\n",
    "print(result)\n",
    "\n",
    "print(\"\\nDoes the extracted information answer the user's last question?\")\n",
    "print(\"User's last question:\", conversations[-1]['content'])\n",
    "print(\"Relevant information found:\", \"Yes\" if \"Paris\" in result else \"No\")"
   ]
  },
  {
   "cell_type": "markdown",
   "metadata": {},
   "source": [
    "## Test with Different Scenarios\n",
    "\n",
    "Let's test our function with different scenarios to ensure it works correctly in various situations."
   ]
  },
  {
   "cell_type": "code",
   "execution_count": null,
   "metadata": {},
   "outputs": [],
   "source": [
    "# Scenario 1: Question about a topic not in the documents\n",
    "conversations_scenario1 = [\n",
    "    {\"role\": \"user\", \"content\": \"What's the capital of Germany?\"},\n",
    "]\n",
    "\n",
    "result_scenario1 = extract_relevance_info_from_docs_with_conversation.with_llm(llm).run(conversations=conversations_scenario1, documents=documents)\n",
    "print(\"Scenario 1 Result:\")\n",
    "print(result_scenario1)\n",
    "\n",
    "# Scenario 2: Question about a topic in the documents, but not related to France\n",
    "conversations_scenario2 = [\n",
    "    {\"role\": \"user\", \"content\": \"Tell me about Python programming.\"},\n",
    "]\n",
    "\n",
    "result_scenario2 = extract_relevance_info_from_docs_with_conversation.with_llm(llm).run(conversations=conversations_scenario2, documents=documents)\n",
    "print(\"\\nScenario 2 Result:\")\n",
    "print(result_scenario2)"
   ]
  },
  {
   "cell_type": "markdown",
   "metadata": {},
   "source": [
    "## Conclusion\n",
    "\n",
    "In this notebook, we've tested the `extract_relevance_info_from_docs_with_conversation` function with various scenarios. The function should effectively extract relevant information from the provided documents based on the conversation history and the user's last question. \n",
    "\n",
    "By analyzing the results, we can see how well the function performs in different situations, such as when the relevant information is present in the documents or when it's not available."
   ]
  }
 ],
 "metadata": {
  "kernelspec": {
   "display_name": "Python 3",
   "language": "python",
   "name": "python3"
  },
  "language_info": {
   "codemirror_mode": {
    "name": "ipython",
    "version": 3
   },
   "file_extension": ".py",
   "mimetype": "text/x-python",
   "name": "python",
   "nbconvert_exporter": "python",
   "pygments_lexer": "ipython3",
   "version": "3.10.11"
  }
 },
 "nbformat": 4,
 "nbformat_minor": 4
}
