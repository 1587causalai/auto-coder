{
 "cells": [
  {
   "cell_type": "code",
   "execution_count": null,
   "id": "1",
   "metadata": {},
   "outputs": [],
   "source": [
    "from prompt_toolkit import PromptSession\n",
    "from prompt_toolkit.formatted_text import FormattedText\n",
    "from prompt_toolkit.styles import Style\n",
    "\n",
    "# 设置样式\n",
    "style = Style.from_dict({\n",
    "    'username': '#884444',\n",
    "    'at': '#00aa00',\n",
    "    'colon': '#0000aa',\n",
    "    'pound': '#00aa00',\n",
    "    'host': '#00ffff bg:#444400',\n",
    "})\n",
    "\n",
    "# 设置提示信息\n",
    "prompt_message = [\n",
    "    ('class:username', 'user'),\n",
    "    ('class:at', '@'),\n",
    "    ('class:host', 'localhost'),\n",
    "    ('class:colon', ':'),\n",
    "    ('class:pound', '$ '),\n",
    "]\n",
    "\n",
    "# 创建会话\n",
    "session = PromptSession()\n",
    "\n",
    "# 获取用户输入\n",
    "user_input = session.prompt(FormattedText(prompt_message), style=style)\n",
    "\n",
    "print(f\"You entered: {user_input}\")"
   ]
  }
 ],
 "metadata": {
  "kernelspec": {
   "display_name": "Python 3",
   "language": "python",
   "name": "python3"
  },
  "language_info": {
   "codemirror_mode": {
    "name": "ipython",
    "version": 3
   },
   "file_extension": ".py",
   "mimetype": "text/x-python",
   "name": "python",
   "nbconvert_exporter": "python",
   "pygments_lexer": "ipython3",
   "version": "3.8.5"
  }
 },
 "nbformat": 4,
 "nbformat_minor": 5
}