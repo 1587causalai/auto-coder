{
 "cells": [
  {
   "cell_type": "markdown",
   "metadata": {},
   "source": [
    "# 测试 byzerllm.emb 功能\n",
    "\n",
    "在这个notebook中，我们将测试byzerllm的emb（嵌入）功能。我们将展示如何使用byzerllm来生成文本的嵌入向量。"
   ]
  },
  {
   "cell_type": "code",
   "execution_count": null,
   "metadata": {},
   "outputs": [],
   "source": [
    "# 导入所需的库\n",
    "import byzerllm\n",
    "import numpy as np"
   ]
  },
  {
   "cell_type": "code",
   "execution_count": null,
   "metadata": {},
   "outputs": [],
   "source": [
    "# 初始化ByzerLLM\n",
    "llm = byzerllm.ByzerLLM()\n",
    "\n",
    "# 设置默认的嵌入模型\n",
    "# 注意：请确保您已经部署了相应的嵌入模型，例如 \"emb\"\n",
    "llm.setup_default_emb_model_name(\"emb\")"
   ]
  },
  {
   "cell_type": "code",
   "execution_count": null,
   "metadata": {},
   "outputs": [],
   "source": [
    "# 测试单个文本的嵌入\n",
    "text = \"Hello, world!\"\n",
    "embedding = llm.emb_query(text)\n",
    "\n",
    "print(f\"Text: {text}\")\n",
    "print(f\"Embedding shape: {np.array(embedding).shape}\")\n",
    "print(f\"First few values of embedding: {embedding[:5]}\")"
   ]
  },
  {
   "cell_type": "code",
   "execution_count": null,
   "metadata": {},
   "outputs": [],
   "source": [
    "# 测试多个文本的嵌入\n",
    "texts = [\"Hello, world!\", \"ByzerLLM is awesome\", \"Embedding models are useful\"]\n",
    "embeddings = llm.emb_query_batch(texts)\n",
    "\n",
    "for i, (text, embedding) in enumerate(zip(texts, embeddings)):\n",
    "    print(f\"Text {i+1}: {text}\")\n",
    "    print(f\"Embedding shape: {np.array(embedding).shape}\")\n",
    "    print(f\"First few values of embedding: {embedding[:5]}\")\n",
    "    print()"
   ]
  },
  {
   "cell_type": "code",
   "execution_count": null,
   "metadata": {},
   "outputs": [],
   "source": [
    "# 计算两个嵌入之间的余弦相似度\n",
    "def cosine_similarity(a, b):\n",
    "    return np.dot(a, b) / (np.linalg.norm(a) * np.linalg.norm(b))\n",
    "\n",
    "similarity = cosine_similarity(embeddings[0], embeddings[1])\n",
    "print(f\"Cosine similarity between '{texts[0]}' and '{texts[1]}': {similarity}\")"
   ]
  },
  {
   "cell_type": "markdown",
   "metadata": {},
   "source": [
    "这个notebook展示了如何使用byzerllm的emb功能来生成文本的嵌入向量。我们测试了单个文本和多个文本的嵌入，并展示了如何计算嵌入之间的相似度。\n",
    "\n",
    "请注意，在运行这个notebook之前，确保您已经正确设置和部署了嵌入模型。如果遇到任何问题，请检查您的byzerllm配置和模型部署状态。"
   ]
  }
 ],
 "metadata": {
  "kernelspec": {
   "display_name": "Python 3",
   "language": "python",
   "name": "python3"
  },
  "language_info": {
   "codemirror_mode": {
    "name": "ipython",
    "version": 3
   },
   "file_extension": ".py",
   "mimetype": "text/x-python",
   "name": "python",
   "nbconvert_exporter": "python",
   "pygments_lexer": "ipython3",
   "version": "3.8.5"
  }
 },
 "nbformat": 4,
 "nbformat_minor": 4
}