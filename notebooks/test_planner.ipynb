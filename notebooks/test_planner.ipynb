{
 "cells": [
  {
   "cell_type": "code",
   "execution_count": 1,
   "metadata": {},
   "outputs": [
    {
     "name": "stderr",
     "output_type": "stream",
     "text": [
      "\u001b[32m2024-06-10 21:15:22.178\u001b[0m | \u001b[1mINFO    \u001b[0m | \u001b[36mbyzerllm.utils.connect_ray\u001b[0m:\u001b[36mconnect_cluster\u001b[0m:\u001b[36m37\u001b[0m - \u001b[1mJDK 21 will be used (/Users/allwefantasy/.auto-coder/jdk-21.0.2.jdk/Contents/Home)...\u001b[0m\n",
      "2024-06-10 21:15:22,339\tINFO worker.py:1564 -- Connecting to existing Ray cluster at address: 127.0.0.1:6379...\n",
      "2024-06-10 21:15:22,357\tINFO worker.py:1740 -- Connected to Ray cluster. View the dashboard at \u001b[1m\u001b[32m127.0.0.1:8265 \u001b[39m\u001b[22m\n"
     ]
    },
    {
     "name": "stdout",
     "output_type": "stream",
     "text": [
      "21\n"
     ]
    },
    {
     "name": "stderr",
     "output_type": "stream",
     "text": [
      "\u001b[32m2024-06-10 21:15:26.045\u001b[0m | \u001b[1mINFO    \u001b[0m | \u001b[36mautocoder.index.index\u001b[0m:\u001b[36mget_target_files_by_query\u001b[0m:\u001b[36m383\u001b[0m - \u001b[1mFind the related files by query according to the files...\u001b[0m\n"
     ]
    },
    {
     "name": "stdout",
     "output_type": "stream",
     "text": [
      "\u001b[1;3;38;5;200mThought: The user wants to set the default concurrency to 8. I need to find the relevant files that handle concurrency settings.\n",
      "Action: get_project_related_files\n",
      "Action Input: {'query': 'concurrency settings'}\n",
      "\u001b[0m\u001b[1;3;34mObservation: /Users/allwefantasy/projects/auto-coder/src/autocoder/command_args.py,/Users/allwefantasy/projects/auto-coder/tests/base.py,/Users/allwefantasy/projects/auto-coder/src/autocoder/common/const.py,/Users/allwefantasy/projects/auto-coder/src/autocoder/common/ShellClient.py\n",
      "\u001b[0m\u001b[1;3;38;5;200mThought: The relevant files related to concurrency settings have been identified. Now, I need to generate a YAML configuration file that sets the default concurrency to 8.\n",
      "Action: generate_auto_coder_yaml\n",
      "Action Input: {'yaml_file_name': 'set_default_concurrency', 'yaml_str': 'query: |\\n  关注 command_args.py, const.py, ShellClient.py 等几个文件，\\n  设置默认并发为8'}\n",
      "\u001b[0m\u001b[1;3;34mObservation: /Users/allwefantasy/projects/auto-coder/actions/079_set_default_concurrency.yml\n",
      "\u001b[0m\u001b[1;3;38;5;200mThought: I have successfully generated the YAML configuration file to set the default concurrency to 8. I can now inform the user about the action taken.\n",
      "Answer: 我已经生成了一个 YAML 配置文件，该文件将设置默认并发为8。配置文件的路径是 /Users/allwefantasy/projects/auto-coder/actions/079_set_default_concurrency.yml。您可以使用 `auto-file --file actions/079_set_default_concurrency.yml` 命令来应用此配置。\n",
      "\u001b[0m"
     ]
    },
    {
     "data": {
      "text/plain": [
       "'我已经生成了一个 YAML 配置文件，该文件将设置默认并发为8。配置文件的路径是 /Users/allwefantasy/projects/auto-coder/actions/079_set_default_concurrency.yml。您可以使用 `auto-file --file actions/079_set_default_concurrency.yml` 命令来应用此配置。'"
      ]
     },
     "execution_count": 1,
     "metadata": {},
     "output_type": "execute_result"
    }
   ],
   "source": [
    "import byzerllm\n",
    "from autocoder.common import AutoCoderArgs\n",
    "from autocoder.agent.planner import Planner\n",
    "from autocoder.utils.tests import get_llm\n",
    "\n",
    "args = AutoCoderArgs(\n",
    "        project_type=\"py\",\n",
    "        source_dir=\"/Users/allwefantasy/projects/auto-coder\",\n",
    "        target_file=\"/Users/allwefantasy/projects/auto-coder/output.txt\",\n",
    "        model=\"deepseek_chat\",\n",
    "        human_as_model=False,\n",
    "        emb_model=\"gpt_emb\",\n",
    "        ray_address=\"auto\"\n",
    "    )\n",
    "\n",
    "llm = get_llm(args)\n",
    "\n",
    "planner = Planner(args, llm)\n",
    "planner.run(\"我想索引默认支持并发为8\")\n"
   ]
  },
  {
   "cell_type": "code",
   "execution_count": 2,
   "metadata": {},
   "outputs": [
    {
     "name": "stderr",
     "output_type": "stream",
     "text": [
      "\u001b[32m2024-06-10 20:37:34.332\u001b[0m | \u001b[1mINFO    \u001b[0m | \u001b[36mbyzerllm.utils.connect_ray\u001b[0m:\u001b[36mconnect_cluster\u001b[0m:\u001b[36m37\u001b[0m - \u001b[1mJDK 21 will be used (/Users/allwefantasy/.auto-coder/jdk-21.0.2.jdk/Contents/Home)...\u001b[0m\n",
      "2024-06-10 20:37:34,552\tINFO worker.py:1564 -- Connecting to existing Ray cluster at address: 127.0.0.1:6379...\n",
      "2024-06-10 20:37:34,553\tINFO worker.py:1582 -- Calling ray.init() again after it has already been called.\n"
     ]
    },
    {
     "name": "stdout",
     "output_type": "stream",
     "text": [
      "21\n"
     ]
    },
    {
     "name": "stderr",
     "output_type": "stream",
     "text": [
      "\u001b[32m2024-06-10 20:37:38.522\u001b[0m | \u001b[1mINFO    \u001b[0m | \u001b[36mautocoder.index.index\u001b[0m:\u001b[36mget_target_files_by_query\u001b[0m:\u001b[36m383\u001b[0m - \u001b[1mFind the related files by query according to the files...\u001b[0m\n"
     ]
    },
    {
     "name": "stdout",
     "output_type": "stream",
     "text": [
      "\u001b[1;3;38;5;200mThought: The user wants to fix an issue with saving the planner's YAML file. I need to identify the relevant files related to the planner's YAML configuration.\n",
      "Action: get_project_related_files\n",
      "Action Input: {'query': \"planner's YAML configuration files\"}\n",
      "\u001b[0m\u001b[1;3;34mObservation: /Users/allwefantasy/projects/auto-coder/src/autocoder/common/command_templates.py,/Users/allwefantasy/projects/auto-coder/src/autocoder/agent/planner.py\n",
      "\u001b[0m\u001b[1;3;38;5;200mThought: I have identified the relevant files related to the planner's YAML configuration. Now, I need to generate a YAML configuration for auto-coder to fix the saving issue.\n",
      "Action: generate_auto_coder_yaml\n",
      "Action Input: {'yaml_file_name': 'fix_planner_yaml_save', 'yaml_str': 'query: |\\n  关注 /Users/allwefantasy/projects/auto-coder/src/autocoder/common/command_templates.py 和 /Users/allwefantasy/projects/auto-coder/src/autocoder/agent/planner.py 文件，\\n  修复 planner 的 YAML 保存问题'}\n",
      "\u001b[0m\u001b[1;3;34mObservation: /Users/allwefantasy/projects/auto-coder/actions/078_fix_planner_yaml_save.yml\n",
      "\u001b[0m\u001b[1;3;38;5;200mThought: I have successfully generated the YAML configuration file to fix the planner's YAML saving issue. I can now inform the user about the generated file.\n",
      "Answer: 我已经为您生成了一个 YAML 配置文件来修复 planner 的 YAML 保存问题。文件路径为：/Users/allwefantasy/projects/auto-coder/actions/078_fix_planner_yaml_save.yml。您可以使用 auto-coder 工具执行该配置文件来解决问题。\n",
      "\u001b[0m"
     ]
    },
    {
     "data": {
      "text/plain": [
       "'我已经为您生成了一个 YAML 配置文件来修复 planner 的 YAML 保存问题。文件路径为：/Users/allwefantasy/projects/auto-coder/actions/078_fix_planner_yaml_save.yml。您可以使用 auto-coder 工具执行该配置文件来解决问题。'"
      ]
     },
     "execution_count": 2,
     "metadata": {},
     "output_type": "execute_result"
    }
   ],
   "source": [
    "import byzerllm\n",
    "from autocoder.common import AutoCoderArgs\n",
    "from autocoder.agent.planner import Planner\n",
    "from autocoder.utils.tests import get_llm\n",
    "\n",
    "args = AutoCoderArgs(\n",
    "        project_type=\"py\",\n",
    "        source_dir=\"/Users/allwefantasy/projects/auto-coder\",\n",
    "        target_file=\"/Users/allwefantasy/projects/auto-coder/output.txt\",\n",
    "        model=\"deepseek_chat\",\n",
    "        human_as_model=False,\n",
    "        emb_model=\"gpt_emb\",\n",
    "        ray_address=\"auto\"\n",
    "    )\n",
    "\n",
    "llm = get_llm(args)\n",
    "\n",
    "planner = Planner(args, llm)\n",
    "planner.run(\"修复plannerz中的yaml 保存的问题\")\n"
   ]
  },
  {
   "cell_type": "code",
   "execution_count": 8,
   "metadata": {},
   "outputs": [
    {
     "name": "stdout",
     "output_type": "stream",
     "text": [
      "age: 30\n",
      "city: 地球\n",
      "name: John\n",
      "\n"
     ]
    }
   ],
   "source": [
    "import yaml\n",
    "\n",
    "# 假设 yaml_content 是一个字典或其他可序列化的对象\n",
    "yaml_content = {\n",
    "    'name': 'John',\n",
    "    'age': 30,\n",
    "    'city': '地球'\n",
    "}\n",
    "\n",
    "# 使用 yaml.dump() 转换为 YAML 字符串\n",
    "new_content = yaml.dump(yaml_content, encoding='utf-8',allow_unicode=True).decode('utf-8')\n",
    "\n",
    "# 打印 new_content，它已经是一个字符串\n",
    "print(new_content)"
   ]
  }
 ],
 "metadata": {
  "kernelspec": {
   "display_name": "byzerllm",
   "language": "python",
   "name": "python3"
  },
  "language_info": {
   "codemirror_mode": {
    "name": "ipython",
    "version": 3
   },
   "file_extension": ".py",
   "mimetype": "text/x-python",
   "name": "python",
   "nbconvert_exporter": "python",
   "pygments_lexer": "ipython3",
   "version": "3.10.11"
  }
 },
 "nbformat": 4,
 "nbformat_minor": 2
}
