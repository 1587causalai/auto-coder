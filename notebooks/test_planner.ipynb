{
 "cells": [
  {
   "cell_type": "code",
   "execution_count": 1,
   "metadata": {},
   "outputs": [
    {
     "name": "stderr",
     "output_type": "stream",
     "text": [
      "\u001b[32m2024-06-10 18:51:21.244\u001b[0m | \u001b[1mINFO    \u001b[0m | \u001b[36mbyzerllm.utils.connect_ray\u001b[0m:\u001b[36mconnect_cluster\u001b[0m:\u001b[36m37\u001b[0m - \u001b[1mJDK 21 will be used (/Users/allwefantasy/.auto-coder/jdk-21.0.2.jdk/Contents/Home)...\u001b[0m\n",
      "2024-06-10 18:51:21,287\tINFO worker.py:1564 -- Connecting to existing Ray cluster at address: 127.0.0.1:6379...\n",
      "2024-06-10 18:51:21,301\tINFO worker.py:1740 -- Connected to Ray cluster. View the dashboard at \u001b[1m\u001b[32m127.0.0.1:8265 \u001b[39m\u001b[22m\n"
     ]
    },
    {
     "name": "stdout",
     "output_type": "stream",
     "text": [
      "\u001b[1;3;38;5;200mThought: The current language of the user is: Chinese. I need to use a tool to help me answer the question.\n",
      "Action: get_project_related_files\n",
      "Action Input: {'query': '从目录结构以及源码描述中找到项目的命令行入口相关的文件'}\n",
      "\u001b[0m\u001b[1;3;34mObservation: Error: 'NoneType' object has no attribute 'split'\n",
      "\u001b[0m\u001b[1;3;38;5;200mThought: The error message indicates that the tool did not return any files. I need to refine the query to be more specific about the type of files I am looking for.\n",
      "Action: get_project_related_files\n",
      "Action Input: {'query': '查找项目中与命令行功能相关的文件'}\n",
      "\u001b[0m\u001b[1;3;34mObservation: Error: 'NoneType' object has no attribute 'split'\n",
      "\u001b[0m\u001b[1;3;38;5;200mThought: The error message persists, indicating that the tool is still not able to find the relevant files. I need to further refine the query to be more specific about the context of the command line functionality.\n",
      "Action: get_project_related_files\n",
      "Action Input: {'query': '查找项目中与 auto-coder 命令行功能相关的文件'}\n",
      "\u001b[0m\u001b[1;3;34mObservation: Error: 'NoneType' object has no attribute 'split'\n",
      "\u001b[0m"
     ]
    }
   ],
   "source": [
    "import byzerllm\n",
    "from autocoder.common import AutoCoderArgs\n",
    "from autocoder.agent.planner import Planner\n",
    "\n",
    "args = AutoCoderArgs(\n",
    "    project_type=\"py\",\n",
    "    source_dir=\"/Users/allwefantasy/projects/auto-coder\",\n",
    "    model=\"deepseek_chat\",\n",
    "    human_as_model=False,\n",
    ")\n",
    "\n",
    "llm = byzerllm.ByzerLLM.from_default_model(model=args.model)\n",
    "\n",
    "planner = Planner(args, llm)\n",
    "planner.run(\"我想添加一个新的命令 auto-coder agent\")\n"
   ]
  }
 ],
 "metadata": {
  "kernelspec": {
   "display_name": "byzerllm",
   "language": "python",
   "name": "python3"
  },
  "language_info": {
   "codemirror_mode": {
    "name": "ipython",
    "version": 3
   },
   "file_extension": ".py",
   "mimetype": "text/x-python",
   "name": "python",
   "nbconvert_exporter": "python",
   "pygments_lexer": "ipython3",
   "version": "3.10.11"
  }
 },
 "nbformat": 4,
 "nbformat_minor": 2
}
