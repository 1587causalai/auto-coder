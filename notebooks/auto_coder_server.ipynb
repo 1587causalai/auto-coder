{
 "cells": [
  {
   "cell_type": "code",
   "execution_count": 158,
   "metadata": {},
   "outputs": [],
   "source": [
    "import requests\n",
    "import json\n",
    "\n",
    "v = requests.post('http://127.0.0.1:8000/ask', json={\"query\":\"这个项目干嘛的\"})\n",
    "request_id = v.json()[\"request_id\"]\n",
    "# print(v.json())"
   ]
  },
  {
   "cell_type": "code",
   "execution_count": 174,
   "metadata": {},
   "outputs": [
    {
     "name": "stdout",
     "output_type": "stream",
     "text": [
      "{'detail': 'Result not found or not ready yet'}\n"
     ]
    }
   ],
   "source": [
    "v = requests.get(f'http://127.0.0.1:8000/extra/result/{request_id}')\n",
    "print(v.json())"
   ]
  },
  {
   "cell_type": "code",
   "execution_count": 6,
   "metadata": {},
   "outputs": [
    {
     "name": "stdout",
     "output_type": "stream",
     "text": [
      "b'{\"message\":\"\"}'\n"
     ]
    }
   ],
   "source": [
    "import requests\n",
    "import json\n",
    "\n",
    "v = requests.post('http://127.0.0.1:8000/test/event/send', json={\"request_id\":\"1\"})\n",
    "print(v.content)"
   ]
  },
  {
   "cell_type": "code",
   "execution_count": 7,
   "metadata": {},
   "outputs": [
    {
     "name": "stdout",
     "output_type": "stream",
     "text": [
      "{'message': {'event_type': 'code_merge', 'data': 'xxxxx'}}\n"
     ]
    }
   ],
   "source": [
    "import requests\n",
    "import json\n",
    "\n",
    "v = requests.post('http://127.0.0.1:8000/test/event/get', json={\"request_id\":\"1\"})\n",
    "print(v.json())"
   ]
  },
  {
   "cell_type": "code",
   "execution_count": 8,
   "metadata": {},
   "outputs": [
    {
     "name": "stdout",
     "output_type": "stream",
     "text": [
      "{'message': ''}\n"
     ]
    }
   ],
   "source": [
    "import requests\n",
    "import json\n",
    "\n",
    "v = requests.post('http://127.0.0.1:8000/test/event/response', json={\"request_id\":\"1\"})\n",
    "print(v.json())"
   ]
  }
 ],
 "metadata": {
  "kernelspec": {
   "display_name": "byzerllm",
   "language": "python",
   "name": "python3"
  },
  "language_info": {
   "codemirror_mode": {
    "name": "ipython",
    "version": 3
   },
   "file_extension": ".py",
   "mimetype": "text/x-python",
   "name": "python",
   "nbconvert_exporter": "python",
   "pygments_lexer": "ipython3",
   "version": "3.10.11"
  }
 },
 "nbformat": 4,
 "nbformat_minor": 2
}
