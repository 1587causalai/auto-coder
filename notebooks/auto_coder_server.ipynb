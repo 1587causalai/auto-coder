{
 "cells": [
  {
   "cell_type": "code",
   "execution_count": 30,
   "metadata": {},
   "outputs": [
    {
     "name": "stdout",
     "output_type": "stream",
     "text": [
      "b'{\"request_id\":\"d80cbae4-fb86-4027-8b21-b3346839bd0e\"}'\n"
     ]
    }
   ],
   "source": [
    "import requests\n",
    "import json\n",
    "\n",
    "v = requests.post('http://127.0.0.1:8000/chat', json={\"query\":\"auto_coder_server 這個文件是幹嘛的\"})\n",
    "print(v.content)"
   ]
  },
  {
   "cell_type": "code",
   "execution_count": 33,
   "metadata": {},
   "outputs": [
    {
     "name": "stdout",
     "output_type": "stream",
     "text": [
      "{'result': '`auto_coder_server.py` 文件是一个 FastAPI 应用程序，它提供了一个 RESTful API 服务，用于与自动编码器（AutoCoder）进行交互。这个服务允许用户通过 HTTP 请求来管理文件、配置设置、执行编码任务、进行聊天对话等。以下是这个文件的主要功能：\\n\\n1. **文件管理**：\\n   - `/add_files`：添加文件到当前会话。\\n   - `/remove_files`：从当前会话中移除文件。\\n   - `/list_files`：列出当前会话中的所有文件。\\n\\n2. **配置管理**：\\n   - `/conf`：设置或更新配置项。\\n   - `/conf/{key}`：删除指定的配置项。\\n\\n3. **编码任务**：\\n   - `/coding`：根据用户的查询请求执行编码任务。\\n   - `/chat`：进行聊天对话，获取对当前文件的见解。\\n   - `/ask`：询问任何问题或获取对当前项目的见解，而不修改代码。\\n\\n4. **版本控制**：\\n   - `/revert`：撤销上一次的聊天操作。\\n\\n5. **索引管理**：\\n   - `/index/build`：触发构建项目索引。\\n   - `/index/query`：根据查询请求查询项目索引。\\n\\n6. **目录排除**：\\n   - `/exclude_dirs`：添加目录到排除列表。\\n\\n7. **Shell 命令执行**：\\n   - `/shell`：执行指定的 Shell 命令。\\n\\n8. **结果查询**：\\n   - `/result/{request_id}`：根据请求 ID 获取结果。\\n\\n这个文件通过 FastAPI 框架提供了这些功能，并且使用了全局变量 `memory` 来存储会话状态，包括对话历史、当前文件、配置设置和排除目录等。这些状态信息会被持久化到磁盘上的 `memory.json` 文件中，以便在服务重启后恢复状态。'}\n"
     ]
    }
   ],
   "source": [
    "v = requests.get('http://127.0.0.1:8000/result/d80cbae4-fb86-4027-8b21-b3346839bd0e')\n",
    "print(v.json())"
   ]
  }
 ],
 "metadata": {
  "kernelspec": {
   "display_name": "byzerllm",
   "language": "python",
   "name": "python3"
  },
  "language_info": {
   "codemirror_mode": {
    "name": "ipython",
    "version": 3
   },
   "file_extension": ".py",
   "mimetype": "text/x-python",
   "name": "python",
   "nbconvert_exporter": "python",
   "pygments_lexer": "ipython3",
   "version": "3.10.11"
  }
 },
 "nbformat": 4,
 "nbformat_minor": 2
}
