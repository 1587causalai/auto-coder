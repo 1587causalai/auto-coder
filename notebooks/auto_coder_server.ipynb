{
 "cells": [
  {
   "cell_type": "code",
   "execution_count": 149,
   "metadata": {},
   "outputs": [],
   "source": [
    "import requests\n",
    "import json\n",
    "\n",
    "v = requests.post('http://127.0.0.1:8000/chat', json={\"query\":\"auto_coder_server 這個文件是幹嘛的\"})\n",
    "request_id = v.json()[\"request_id\"]\n",
    "# print(v.json())"
   ]
  },
  {
   "cell_type": "code",
   "execution_count": 157,
   "metadata": {},
   "outputs": [
    {
     "name": "stdout",
     "output_type": "stream",
     "text": [
      "{'detail': 'Result not found or not ready yet'}\n"
     ]
    }
   ],
   "source": [
    "v = requests.get(f'http://127.0.0.1:8000/extra/result/{request_id}')\n",
    "print(v.json())"
   ]
  }
 ],
 "metadata": {
  "kernelspec": {
   "display_name": "byzerllm",
   "language": "python",
   "name": "python3"
  },
  "language_info": {
   "codemirror_mode": {
    "name": "ipython",
    "version": 3
   },
   "file_extension": ".py",
   "mimetype": "text/x-python",
   "name": "python",
   "nbconvert_exporter": "python",
   "pygments_lexer": "ipython3",
   "version": "3.10.11"
  }
 },
 "nbformat": 4,
 "nbformat_minor": 2
}
